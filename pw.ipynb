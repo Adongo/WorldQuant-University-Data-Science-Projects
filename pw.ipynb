{
 "cells": [
  {
   "cell_type": "code",
   "execution_count": 1,
   "metadata": {
    "init_cell": true
   },
   "outputs": [],
   "source": [
    "%logstop\n",
    "%logstart -rtq ~/.logs/pw.py append\n",
    "%matplotlib inline\n",
    "import matplotlib\n",
    "import seaborn as sns\n",
    "sns.set()\n",
    "matplotlib.rcParams['figure.dpi'] = 144"
   ]
  },
  {
   "cell_type": "code",
   "execution_count": 3,
   "metadata": {},
   "outputs": [],
   "source": [
    "from static_grader import grader"
   ]
  },
  {
   "cell_type": "markdown",
   "metadata": {},
   "source": [
    "# PW Miniproject\n",
    "## Introduction\n",
    "\n",
    "The objective of this miniproject is to exercise your ability to use basic Python data structures, define functions, and control program flow. We will be using these concepts to perform some fundamental data wrangling tasks such as joining data sets together, splitting data into groups, and aggregating data into summary statistics.\n",
    "**Please do not use `pandas` or `numpy` to answer these questions.**\n",
    "\n",
    "We will be working with medical data from the British NHS on prescription drugs. Since this is real data, it contains many ambiguities that we will need to confront in our analysis. This is commonplace in data science, and is one of the lessons you will learn in this miniproject."
   ]
  },
  {
   "cell_type": "markdown",
   "metadata": {},
   "source": [
    "## Downloading the data\n",
    "\n",
    "We first need to download the data we'll be using from Amazon S3:"
   ]
  },
  {
   "cell_type": "code",
   "execution_count": 4,
   "metadata": {},
   "outputs": [
    {
     "name": "stderr",
     "output_type": "stream",
     "text": [
      "mkdir: cannot create directory ‘pw-data’: File exists\n",
      "File ‘./pw-data/201701scripts_sample.json.gz’ already there; not retrieving.\n",
      "\n",
      "File ‘./pw-data/practices.json.gz’ already there; not retrieving.\n",
      "\n"
     ]
    }
   ],
   "source": [
    "%%bash\n",
    "mkdir pw-data\n",
    "wget http://dataincubator-wqu.s3.amazonaws.com/pwdata/201701scripts_sample.json.gz -nc -P ./pw-data\n",
    "wget http://dataincubator-wqu.s3.amazonaws.com/pwdata/practices.json.gz -nc -P ./pw-data"
   ]
  },
  {
   "cell_type": "markdown",
   "metadata": {},
   "source": [
    "## Loading the data\n",
    "\n",
    "The first step of the project is to read in the data. We will discuss reading and writing various kinds of files later in the course, but the code below should get you started."
   ]
  },
  {
   "cell_type": "code",
   "execution_count": 5,
   "metadata": {},
   "outputs": [],
   "source": [
    "import gzip\n",
    "import simplejson as json"
   ]
  },
  {
   "cell_type": "code",
   "execution_count": 6,
   "metadata": {},
   "outputs": [],
   "source": [
    "with gzip.open('./pw-data/201701scripts_sample.json.gz', 'rb') as f:\n",
    "    scripts = json.load(f)\n",
    "\n",
    "with gzip.open('./pw-data/practices.json.gz', 'rb') as f:\n",
    "    practices = json.load(f)"
   ]
  },
  {
   "cell_type": "markdown",
   "metadata": {},
   "source": [
    "This data set comes from Britain's National Health Service. The `scripts` variable is a list of prescriptions issued by NHS doctors. Each prescription is represented by a dictionary with various data fields: `'practice'`, `'bnf_code'`, `'bnf_name'`, `'quantity'`, `'items'`, `'nic'`, and `'act_cost'`. "
   ]
  },
  {
   "cell_type": "code",
   "execution_count": 7,
   "metadata": {},
   "outputs": [
    {
     "data": {
      "text/plain": [
       "[{'bnf_code': '0101010G0AAABAB',\n",
       "  'items': 2,\n",
       "  'practice': 'N81013',\n",
       "  'bnf_name': 'Co-Magaldrox_Susp 195mg/220mg/5ml S/F',\n",
       "  'nic': 5.98,\n",
       "  'act_cost': 5.56,\n",
       "  'quantity': 1000},\n",
       " {'bnf_code': '0101021B0AAAHAH',\n",
       "  'items': 1,\n",
       "  'practice': 'N81013',\n",
       "  'bnf_name': 'Alginate_Raft-Forming Oral Susp S/F',\n",
       "  'nic': 1.95,\n",
       "  'act_cost': 1.82,\n",
       "  'quantity': 500}]"
      ]
     },
     "execution_count": 7,
     "metadata": {},
     "output_type": "execute_result"
    }
   ],
   "source": [
    "scripts[:2]"
   ]
  },
  {
   "cell_type": "markdown",
   "metadata": {},
   "source": [
    "A [glossary of terms](http://webarchive.nationalarchives.gov.uk/20180328130852tf_/http://content.digital.nhs.uk/media/10686/Download-glossary-of-terms-for-GP-prescribing---presentation-level/pdf/PLP_Presentation_Level_Glossary_April_2015.pdf/) and [FAQ](http://webarchive.nationalarchives.gov.uk/20180328130852tf_/http://content.digital.nhs.uk/media/10048/FAQs-Practice-Level-Prescribingpdf/pdf/PLP_FAQs_April_2015.pdf/) is available from the NHS regarding the data. Below we supply a data dictionary briefly describing what these fields mean.\n",
    "\n",
    "| Data field |Description|\n",
    "|:----------:|-----------|\n",
    "|`'practice'`|Code designating the medical practice issuing the prescription|\n",
    "|`'bnf_code'`|British National Formulary drug code|\n",
    "|`'bnf_name'`|British National Formulary drug name|\n",
    "|`'quantity'`|Number of capsules/quantity of liquid/grams of powder prescribed|\n",
    "| `'items'`  |Number of refills (e.g. if `'quantity'` is 30 capsules, 3 `'items'` means 3 bottles of 30 capsules)|\n",
    "|  `'nic'`   |Net ingredient cost|\n",
    "|`'act_cost'`|Total cost including containers, fees, and discounts|"
   ]
  },
  {
   "cell_type": "markdown",
   "metadata": {},
   "source": [
    "The `practices` variable is a list of member medical practices of the NHS. Each practice is represented by a dictionary containing identifying information for the medical practice. Most of the data fields are self-explanatory. Notice the values in the `'code'` field of `practices` match the values in the `'practice'` field of `scripts`."
   ]
  },
  {
   "cell_type": "code",
   "execution_count": 8,
   "metadata": {},
   "outputs": [
    {
     "data": {
      "text/plain": [
       "[{'code': 'A81001',\n",
       "  'name': 'THE DENSHAM SURGERY',\n",
       "  'addr_1': 'THE HEALTH CENTRE',\n",
       "  'addr_2': 'LAWSON STREET',\n",
       "  'borough': 'STOCKTON ON TEES',\n",
       "  'village': 'CLEVELAND',\n",
       "  'post_code': 'TS18 1HU'},\n",
       " {'code': 'A81002',\n",
       "  'name': 'QUEENS PARK MEDICAL CENTRE',\n",
       "  'addr_1': 'QUEENS PARK MEDICAL CTR',\n",
       "  'addr_2': 'FARRER STREET',\n",
       "  'borough': 'STOCKTON ON TEES',\n",
       "  'village': 'CLEVELAND',\n",
       "  'post_code': 'TS18 2AW'}]"
      ]
     },
     "execution_count": 8,
     "metadata": {},
     "output_type": "execute_result"
    }
   ],
   "source": [
    "practices[:2]"
   ]
  },
  {
   "cell_type": "markdown",
   "metadata": {},
   "source": [
    "In the following questions we will ask you to explore this data set. You may need to combine pieces of the data set together in order to answer some questions. Not every element of the data set will be used in answering the questions."
   ]
  },
  {
   "cell_type": "markdown",
   "metadata": {},
   "source": [
    "## Question 1: summary_statistics\n",
    "\n",
    "Our beneficiary data (`scripts`) contains quantitative data on the number of items dispensed (`'items'`), the total quantity of item dispensed (`'quantity'`), the net cost of the ingredients (`'nic'`), and the actual cost to the patient (`'act_cost'`). Whenever working with a new data set, it can be useful to calculate summary statistics to develop a feeling for the volume and character of the data. This makes it easier to spot trends and significant features during further stages of analysis.\n",
    "\n",
    "Calculate the sum, mean, standard deviation, and quartile statistics for each of these quantities. Format your results for each quantity as a list: `[sum, mean, standard deviation, 1st quartile, median, 3rd quartile]`. We'll create a `tuple` with these lists for each quantity as a final result."
   ]
  },
  {
   "cell_type": "code",
   "execution_count": 9,
   "metadata": {},
   "outputs": [],
   "source": [
    "\n",
    "def describe(key):\n",
    "    N = len(scripts)\n",
    "    total = sum([script[key] for script in scripts])\n",
    "    avg = total / N\n",
    "    var = sum([(script[key] - avg)** 2 for script in scripts]) / N - 1\n",
    "    s = var ** 0.5\n",
    "    \n",
    "    vals = sorted([script[key] for script in scripts])\n",
    "    q25 = vals[N // 4]\n",
    "    med = vals[N // 2]\n",
    "    q75 = vals[-N // 4]\n",
    "    \n",
    "\n",
    "\n",
    "    return (total, avg, s, q25, med, q75)"
   ]
  },
  {
   "cell_type": "code",
   "execution_count": 10,
   "metadata": {},
   "outputs": [],
   "source": [
    "summary = [('items', describe('items')),\n",
    "           ('quantity', describe('quantity')),\n",
    "           ('nic', describe('nic')),\n",
    "           ('act_cost', describe('act_cost'))]"
   ]
  },
  {
   "cell_type": "code",
   "execution_count": 11,
   "metadata": {},
   "outputs": [
    {
     "name": "stdout",
     "output_type": "stream",
     "text": [
      "==================\n",
      "Your score:  1.0\n",
      "==================\n"
     ]
    }
   ],
   "source": [
    "grader.score.pw__summary_statistics(summary)"
   ]
  },
  {
   "cell_type": "markdown",
   "metadata": {},
   "source": [
    "## Question 2: most_common_item\n",
    "\n",
    "Often we are not interested only in how the data is distributed in our entire data set, but within particular groups -- for example, how many items of each drug (i.e. `'bnf_name'`) were prescribed? Calculate the total items prescribed for each `'bnf_name'`. What is the most commonly prescribed `'bnf_name'` in our data?\n",
    "\n",
    "To calculate this, we first need to split our data set into groups corresponding with the different values of `'bnf_name'`. Then we can sum the number of items dispensed within in each group. Finally we can find the largest sum.\n",
    "\n",
    "We'll use `'bnf_name'` to construct our groups. You should have *5619* unique values for `'bnf_name'`."
   ]
  },
  {
   "cell_type": "code",
   "execution_count": 12,
   "metadata": {},
   "outputs": [],
   "source": [
    "bnf_names = {script['bnf_name'] for script in scripts}\n",
    "assert(len(bnf_names) == 5619)"
   ]
  },
  {
   "cell_type": "markdown",
   "metadata": {},
   "source": [
    "We want to construct \"groups\" identified by `'bnf_name'`, where each group is a collection of prescriptions (i.e. dictionaries from `scripts`). We'll construct a dictionary called `groups`, using `bnf_names` as the keys. We'll represent a group with a `list`, since we can easily append new members to the group. To split our `scripts` into groups by `'bnf_name'`, we should iterate over `scripts`, appending prescription dictionaries to each group as we encounter them."
   ]
  },
  {
   "cell_type": "code",
   "execution_count": 13,
   "metadata": {},
   "outputs": [],
   "source": [
    "groups = {name: [] for name in bnf_names}\n",
    "for script in scripts:\n",
    "    bnf_name = script['bnf_name']\n",
    "    groups[bnf_name].append(script)"
   ]
  },
  {
   "cell_type": "markdown",
   "metadata": {},
   "source": [
    "Now that we've constructed our groups we should sum up `'items'` in each group and find the `'bnf_name'` with the largest sum. The result, `max_item`, should have the form `[(bnf_name, item total)]`, e.g. `[('Foobar', 2000)]`."
   ]
  },
  {
   "cell_type": "code",
   "execution_count": 15,
   "metadata": {},
   "outputs": [],
   "source": [
    "items_by_bnf_name = []\n",
    "\n",
    "for bnf_name, scripts_ in groups.items():\n",
    "    total = sum([script['items'] for script in scripts_])\n",
    "    items_by_bnf_name.append((bnf_name, total))"
   ]
  },
  {
   "cell_type": "code",
   "execution_count": 19,
   "metadata": {},
   "outputs": [
    {
     "data": {
      "text/plain": [
       "[('MagnaPhate_Tab Chble 97.2mg', 41),\n",
       " ('Colecal_Tab 800u', 858),\n",
       " ('Dermalo_Bath Emollient', 87),\n",
       " ('Oxazepam_Tab 10mg', 283),\n",
       " ('Rewisca_Cap 150mg', 114),\n",
       " ('Lido_Oint 5%', 51),\n",
       " ('Sharpsafe 1.8L', 4),\n",
       " ('Cloral Betaine_Tab 707mg', 6),\n",
       " ('Flexi-Ban 10cm x 3.5m Sub-Compress Waddi', 3),\n",
       " ('Nicotine_Transdermal Patch 15mg/16hrs', 64),\n",
       " ('Oxycodone HCl/NaloxoneHCl_Tab 5/2.5mgM/R', 6),\n",
       " ('Mezolar Matrix_TransdermalPatch 75mcg/hr', 21),\n",
       " ('Micralax_Micro-Enem 5ml', 321),\n",
       " ('Morph Sulf_Tab 30mg M/R', 474),\n",
       " ('Dermacolor_Fixing Pdr', 13),\n",
       " ('Tegretol Prolonged Release_Tab 200mg M/R', 1767),\n",
       " ('Cod Liver Oil_Cap 400mg', 4),\n",
       " ('Adcal-D3_Tab Chble (Lem)', 3797),\n",
       " ('Slo-Phyllin_Cap 60mg', 22),\n",
       " ('Omnican Fine Needles Pen Inj Screw On 6m', 379),\n",
       " ('Unspecified Surg Adh Tape 5cm x 5m Perm', 2),\n",
       " ('Chlorhex Glucon_Emollient/Crm 1%', 2),\n",
       " ('Questran_Sach 9g (4g Of Ingredient)', 10),\n",
       " ('Lignospan Special_Inj 2% 2.2ml Cart', 26),\n",
       " ('Levocetirizine_Tab 5mg', 291),\n",
       " ('Betameth Val/Neomycin Sulf_Oint0.1/0.5%', 10),\n",
       " ('Corsodyl_Mthwsh Alcohol Free 0.2%', 59),\n",
       " ('Trimipramine Mal_Tab 25mg', 17),\n",
       " ('Victoza_Inj 6mg/ml 3ml PF Pen', 289),\n",
       " ('Benzydamine HCl_Crm 3%', 12),\n",
       " ('Cinnarizine/Dimenhydrinate_Tab 20mg/40mg', 2),\n",
       " ('Flupentixol HCl_Tab 500mcg', 177),\n",
       " ('Colistimeth Sod_Pdr For Neb 1mega u', 8),\n",
       " ('Mediven Plus Class 2 B/Knee Open Toe Lym', 2),\n",
       " ('Famciclovir_Tab 250mg', 5),\n",
       " ('Cefalexin_Cap 250mg', 1122),\n",
       " ('Xenidate XL_Tab 18mg', 36),\n",
       " ('Enoxaparin_Inj 150mg/ml 1ml Pfs', 13),\n",
       " ('Tobradex_Eye Dps 3mg/ml / 1mg/ml', 63),\n",
       " ('Diltiazem HCl_Tab 60mg M/R', 525),\n",
       " ('Nifedipress MR 10_Tab 10mg', 26),\n",
       " ('Rusch Sympacath AquaFlate Male H/Gel Ctd', 76),\n",
       " ('Dermol 600_Bath Emollient', 922),\n",
       " ('Water For Inj_5ml Amp', 43),\n",
       " ('NovoPen 5 Silver 3ml 1u (1-60u) Hypod Re', 14),\n",
       " ('Complan_Shake Pdr Sach 57g (Sbery)', 217),\n",
       " ('TriCare Needles Pen Inj Screw On 5mm/31', 29),\n",
       " ('Tildiem_Tab 60mg', 257),\n",
       " ('GlucoMen areo Ketone (Reagent)_Strips', 2),\n",
       " ('Stemetil_Tab 5mg', 90),\n",
       " ('Daktacort Hydrocort_Crm', 7),\n",
       " ('Micropore 5cm x 5m Surg Adh Tape Perm No', 33),\n",
       " ('Cutimed Sorbion Sachet EXTRA 20cmx10cm W', 2),\n",
       " ('Clenil Modulite_Inha 100mcg (200D)', 12569),\n",
       " ('Lercanidipine HCl_Tab 10mg', 6049),\n",
       " ('Imodium Instant Melts_Orodisper Tab 2mg', 3),\n",
       " ('Coloplast_SenSura Mio Maxi Drnbl Bag D/C', 3),\n",
       " ('Seretide 500_Accuhaler 500mcg/50mcg(60D)', 4364),\n",
       " ('Emerres_Tab 1.5mg', 6),\n",
       " ('Topamax_Tab 200mg', 4),\n",
       " ('3m Health Care_Cavilon No Sting 1ml Barr', 247),\n",
       " ('Topamax_Sprinkle Cap 25mg', 2),\n",
       " ('N-A Dress 9.5cm x 9.5cm Type 1 Ktd Visco', 8),\n",
       " ('Micropore 2.5cm x 5m Surg Adh Tape Perm', 232),\n",
       " ('Phenoxymethylpenicillin_Soln 125mg/5ml', 1612),\n",
       " ('Rewisca_Cap 75mg', 119),\n",
       " ('Halyard_Corstop a.c.e stopper', 2),\n",
       " ('Isosorbide Mononit_Tab 40mg M/R', 165),\n",
       " ('Plendil_Tab 2.5mg', 38),\n",
       " ('Genius_G/F Bread Brown Sandwich (Cut)', 15),\n",
       " ('Omeprazole_Cap E/C 40mg', 3780),\n",
       " ('K-Plus 10cm x 8.7m M/Layer Compress Band', 123),\n",
       " ('Fusidic Acid_Crm 2%', 4266),\n",
       " ('Fragmin_Inj 25 000u/ml 0.72ml Pfs', 5),\n",
       " ('CosmoCol_Paed Oral Pdr Sach 6.9g', 166),\n",
       " ('Doxazosin Mesil_Tab 8mg M/R', 1260),\n",
       " ('Hypafix 5cm x 5m Surg Adh Tape Perm Non-', 32),\n",
       " ('Cabergoline_Tab 0.5mg', 159),\n",
       " ('Quinine Bisulf_Tab 300mg', 2469),\n",
       " ('Dexameth_Tab Solb 2mg S/F', 9),\n",
       " ('Allevyn Gentle Border Multisite 17.1x17.', 17),\n",
       " ('Coconut_Oil (S)', 16),\n",
       " ('Optiflo R Cath Maint Soln 100ml', 3),\n",
       " ('Softpore 10cm x 15cm Pfa + Adh Border Dr', 12),\n",
       " ('Evolve Hypromellose 0.3% Eye Dps 10ml P/', 3),\n",
       " ('Oseltamivir Phos_Cap 30mg', 32),\n",
       " ('Digoxin_Tab 62.5mcg', 3641),\n",
       " ('Repaglinide_Tab 2mg', 70),\n",
       " ('Keppra_Tab 250mg', 156),\n",
       " ('AgaMatrix Ultra-Thin Lancets 0.20mm/33 G', 317),\n",
       " ('Carbomer 980_Gel Eye Dps 0.2%', 3399),\n",
       " ('Unistik 3 Extra Lancets 2.0mm/21 Gauge', 2),\n",
       " ('Aquacel Ag Foam Adh 10cm x 10cm Wound Dr', 13),\n",
       " ('Zumenon_Tab 2mg', 7),\n",
       " ('Viridal Duo_S/Pack Inj 40mcg Cart', 2),\n",
       " ('Acamprosate Calc_Tab E/C 333mg', 388),\n",
       " ('Clobetasol Prop_Scalp Applic 0.05%', 74),\n",
       " ('Jobst For Men Ambition Class 1 Knee Clos', 17),\n",
       " ('Class 1 M/M C/Kt B/Knee Stkn Elas Hose', 50),\n",
       " ('PreserVision_Tab', 2),\n",
       " ('Primidone_Tab 250mg', 407),\n",
       " ('Great Bear_GB2 Night Drain Bag 2L', 2),\n",
       " ('Alprostadil_Inj 20mcg Pfs Cart', 6),\n",
       " ('Daktarin Aktiv_Pdr Spy 0.16% 100g', 2),\n",
       " ('LoFric Primo Nelaton Male NonPVC 8-18(30', 45),\n",
       " ('Hyetellose_Eye Dps 0.44% Ud', 2),\n",
       " ('Estradot_Patch 25mcg/24hrs', 2),\n",
       " ('Lacosamide_Tab 100mg', 82),\n",
       " ('Calcitriol_Cap 250ng', 179),\n",
       " ('Mepilex Lite 10cm x 10cm Wound Dress Sof', 9),\n",
       " ('Blenderm 2.5cm x 5m Surg Adh Tape Imperm', 2),\n",
       " ('Vagisil_Medic Creme', 3),\n",
       " ('Tentrini Pack_G/F M/Fibre Feed', 3),\n",
       " ('Repinex XL_Tab 8mg', 34),\n",
       " ('Paliperidone_Inj 100mg/1ml Pfs', 11),\n",
       " ('Glimepiride_Tab 2mg', 1131),\n",
       " ('Movelat Relief_Crm', 5),\n",
       " ('Instillagel_Gel 11ml Pfs', 185),\n",
       " ('Seretide 50_Evohaler 50mcg/25mcg (120 D)', 1042),\n",
       " ('Oxycodone HCl/NaloxoneHCl_Tab 20/10mgM/R', 12),\n",
       " ('Zomorph_Cap 200mg', 15),\n",
       " ('Iodoflex Paste 5g Wound Dress H/Gel Ster', 16),\n",
       " ('Decapeptyl SR_Inj 11.25mg Vl + Dil', 68),\n",
       " ('Vit_Cap', 2888),\n",
       " ('Clexane_Inj 100mg/ml 1ml Pfs', 5),\n",
       " ('Prothiaden_Cap 25mg', 5),\n",
       " ('Diphenhydramine HCl_Tab 25mg', 31),\n",
       " ('Easyhaler_Budesonide 100mcg (200 D)', 36),\n",
       " ('SodiClor_Oral Soln 1.46g/5ml', 2),\n",
       " ('OsteoCaps D3_Cap 1 000u', 48),\n",
       " ('Cetraben Oint 125g', 36),\n",
       " ('Trulicity_Inj 1.5mg/0.5ml Pf Pen', 69),\n",
       " ('Dretine_Tab 30mcg/3mg', 40),\n",
       " ('Eclypse 10cm x 10cm Pfa Cellulose Dress', 3),\n",
       " ('Oestro Conj_Tab 300mcg', 2),\n",
       " ('imuDERM Urea Emollient', 3),\n",
       " ('Colesevelam HCl_Tab 625mg', 172),\n",
       " ('Aripiprazole_Inj 400mg Vl + Dil P/R', 2),\n",
       " ('Glutafin_G/F W/F Crisp Bread', 14),\n",
       " ('Conj Oestro/Norgestrel_Tab 625mcg/150mcg', 9),\n",
       " ('Oilatum Plus_Bath Additive', 686),\n",
       " ('Heparin Sod_Soln 100u/ml 2ml Amp', 7),\n",
       " ('Zetuvit E 10cm x 20cm Pfa Cellulose Dres', 153),\n",
       " ('Tegaderm Foam Adh Oval 14.3cm x 15.6cm W', 42),\n",
       " ('Unomedical_Careline+ Leg Bag + Lever Tap', 11),\n",
       " ('Nerisone Fte_Oily Crm 0.3%', 6),\n",
       " ('Glutafin_G/F W/F Tea Bisc', 3),\n",
       " ('Fluoxetine HCl_Cap 20mg', 27574),\n",
       " ('Fortini_1.0 Multi Fibre Liq (4 Flav)', 18),\n",
       " ('Sod Chlor_Oral Soln 292.5mg/5ml S/F', 2),\n",
       " ('Oxycodone HCl_Tab 80mg M/R', 6),\n",
       " ('Clarithromycin_Tab 500mg M/R', 13),\n",
       " ('Betameth/Neomycin_Ear/Eye/Nose Dps.1/.5%', 30),\n",
       " ('Maxitram SR_Cap 100mg', 47),\n",
       " ('Madopar_Tab Disper 100mg/25mg', 36),\n",
       " ('GluNEO (Reagent)_Strips', 32),\n",
       " ('KytoCel 5cm x 5cm Wound Dress Protease M', 5),\n",
       " ('Vardenafil_Tab 20mg', 182),\n",
       " ('ActivHeal 10cm x 10cm Non-Adh Foam Wound', 5),\n",
       " ('Imipramine HCl_Tab 10mg', 105),\n",
       " ('Irbesartan_Tab 75mg', 1881),\n",
       " ('Movicol_Pdr Sach 13.9g (Choc)', 36),\n",
       " ('Amias_Tab 8mg', 14),\n",
       " ('Lumecare Carbomer Eye Gel 0.2%', 18),\n",
       " ('Lormetazepam_Tab 1mg', 17),\n",
       " ('Emla_Crm 5%', 837),\n",
       " ('Leuprorelin Acet_Inj 11.25mg Dil + Pfs', 108),\n",
       " ('Nasofan_Allergy Aq Nsl Spy 50mcg (60 D)', 4),\n",
       " ('Allevyn Gentle Border Lite 5cm x 5cm Wou', 3),\n",
       " ('Provera_Tab 5mg', 2),\n",
       " ('Respond_OstoMart OstoFix Forty Security', 11),\n",
       " ('Colomycin_Inj 1 000 000u Vl (Dry)', 14),\n",
       " ('Ciprofloxacin_Tab 500mg', 1799),\n",
       " ('Calc & Ergocalciferol_Tab 400u', 278),\n",
       " ('Naproxen_Tab E/C 250mg', 1404),\n",
       " ('Leflunomide_Tab 10mg', 210),\n",
       " ('Indometacin_Cap 75mg M/R', 16),\n",
       " ('Angitil SR 180_Cap 180mg', 35),\n",
       " ('Naloxegol_Tab 25mg', 6),\n",
       " ('Colestyramine/Aspartame_Pdr Sach 4g S/F', 105),\n",
       " ('Carbamazepine_Oral Liq 100mg/5ml S/F', 187),\n",
       " ('Adapalene/Benzoyl Per_Gel 0.1%/2.5%', 345),\n",
       " ('Flixonase_Aq Nasule Dps 400mcg Ud', 198),\n",
       " ('Convatec_C/Sive Natura Urost Pch Accu Ta', 14),\n",
       " ('Fusidic Acid_Viscous Eye Dps 1%', 841),\n",
       " ('QV Crm', 316),\n",
       " ('Polyth Ring Pess 50-80mm 7.5mm Thick', 26),\n",
       " ('Paracet/Metoclopramide HCl_Tab 500mg/5mg', 101),\n",
       " ('Cinnarizine_Tab 15mg', 1659),\n",
       " ('Convatec_Esteem+ Convex Drnbl Pch+InvisO', 2),\n",
       " ('InVita D3_Oral Dps 2 400u/ml', 29),\n",
       " ('Sevredol_Tab 20mg', 19),\n",
       " ('Enalapril Mal_Tab 2.5mg', 397),\n",
       " ('Letrozole_Tab 2.5mg', 2970),\n",
       " ('Hylo-Tear Sod Hyaluronate Eye Dps 0.1% P', 1111),\n",
       " ('Ibuprofen_Tab 800mg M/R', 84),\n",
       " ('Cosmopor E 5cm x 7.2cm Adh Dress Pfa', 39),\n",
       " ('Prednisolone_Tab 1mg', 3168),\n",
       " ('Warfarin Sod_Oral Susp 1mg/1ml S/F', 2),\n",
       " ('Spasmonal_Cap 60mg', 35),\n",
       " ('Allevyn Life 12.9cm x 12.9cm Wound Dress', 12),\n",
       " ('Aquacel Foam Adhesive 12.5cm x 12.5cm Wo', 3),\n",
       " ('Doxycycline Hyclate_Cap 50mg', 174),\n",
       " ('Biotene Moisturising Mthwsh', 12),\n",
       " ('Bard_Urisleeve Leg Bag Holder Med (36-55', 19),\n",
       " ('Betameth Val/Fusidic Acid_Crm 0.1%/2%', 2401),\n",
       " ('Durogesic DTrans_T/Derm Patch 100mcg', 42),\n",
       " ('Bisoprolol Fumar_Tab 5mg', 21581),\n",
       " ('Treclin_Gel 1%/0.025%', 38),\n",
       " ('Dipyridamole_Tab 100mg', 79),\n",
       " ('Fortisip Compact Fibre_Liq S/Pack', 2),\n",
       " ('Respond_OstoMart OstoPEEL Apple No Sting', 5),\n",
       " ('Unilet Eco Lancets 0.375mm/28 Gauge', 14),\n",
       " ('Zomorph_Cap 100mg', 131),\n",
       " ('Gaviscon Advance_Tab Chble Mint(Reckitt)', 1078),\n",
       " ('Alogliptin_Tab 25mg', 1508),\n",
       " ('Alzain_Cap 75mg', 340),\n",
       " ('Prednisolone Sod Phos_Suppos 5mg', 4),\n",
       " ('Atorvastatin_Tab 10mg', 25070),\n",
       " ('Ins Levemir_FlexPen 100u/ml 3ml Pf Pen', 1677),\n",
       " ('Dansac_Nova 1 Convex Urost Pouch Clr P/C', 2),\n",
       " ('Hyoscine Butylbrom_Tab 10mg', 6019),\n",
       " ('Ramipril_Tab 1.25mg', 433),\n",
       " ('Nicotine_Transdermal Patch 14mg/24hrs', 38),\n",
       " ('Efexor XL_Cap 75mg', 9),\n",
       " ('Polycal_Pdr', 20),\n",
       " ('Colecal_Cap 10 000u', 33),\n",
       " ('Coal Tar_Ext Shampoo 5%', 49),\n",
       " ('Salic Acid/Lactic Acid_Gel 11%/4%', 83),\n",
       " ('Corsodyl_Mthwsh 0.2%', 58),\n",
       " ('Scandishake Mix_Pdr Sach 85g (Banana)', 17),\n",
       " ('Genius_G/F Bread Brown (Cut)', 17),\n",
       " ('Testosterone_Gel 50mg/5g Ud Tube', 5),\n",
       " ('ConvaTec_ConvaTec Silesse Sting Free Bar', 4),\n",
       " ('Hibiscrub_Soln', 289),\n",
       " ('Aliskiren_Tab 300mg', 12),\n",
       " ('Lamotrigine_Tab 50mg', 2730),\n",
       " ('Dansac_NovaLife 1 Open + View Midi Opqe', 11),\n",
       " ('Losartan Pot_Tab 12.5mg', 532),\n",
       " ('Hydrocort_Oint 0.5%', 111),\n",
       " ('Thorens_Oral Dps 50 000u/5ml', 3),\n",
       " ('Neutrogena_T/Gel Therapeutic Shampoo 2%', 423),\n",
       " ('BuTrans_Transdermal Patch 5mcg/hr', 383),\n",
       " ('Adizem-XL_Cap 300mg', 303),\n",
       " ('Colecal_Cap 400u', 149),\n",
       " ('Hollister_Impression C Convex Transpt Ba', 8),\n",
       " ('Care Olive Oil Ear Dps Ear Wax Softening', 1068),\n",
       " ('Fenofibrate_Cap 67mg (Micronised)', 89),\n",
       " ('Losartan Pot/Hydchloroth_Tab 100/12.5mg', 91),\n",
       " ('Kaltostat 5cm x 5cm Wound Dress Algin St', 22),\n",
       " ('Bupeaze_Transdermal Patch 35mcg/hr(96hr)', 5),\n",
       " ('Centrum Chble_Tab (Fruity)', 2),\n",
       " ('C-View 15cm x 20cm VP Adh Film Dress', 7),\n",
       " ('Sod Bicarb_Cap 500mg', 1944),\n",
       " ('Co-Codamol_Tab 8mg/500mg', 14416),\n",
       " ('Manevac_Gran', 151),\n",
       " ('Monuril_Gran Sach 3g', 2),\n",
       " ('Movicol Plain_Pdr Sach 13.7g', 806),\n",
       " ('Estradiol_Gel Sach 1mg/1g', 20),\n",
       " ('Hollister_Compact Closed Pouch Transpt C', 13),\n",
       " ('Pholcodine_Linct 5mg/5ml S/F', 600),\n",
       " ('Trimipramine Mal_Tab 10mg', 7),\n",
       " ('Activon Tulle 10cm x 10cm Manuka Honey S', 7),\n",
       " ('Valupak_Vit D3 Tab 1 000u', 1158),\n",
       " ('PaediaSure Fibre_Liq (3 Flav)', 33),\n",
       " ('BuTrans_Transdermal Patch 10mcg/hr', 438),\n",
       " ('Nitromin_P/Spy 400mcg (180 D)', 378),\n",
       " ('Olanzapine_Orodisper Tab 10mg S/F', 5),\n",
       " ('Nifedipine_Tab 30mg M/R', 147),\n",
       " ('Ikervis_Eye Dps 0.1% 0.3ml Ud', 4),\n",
       " ('DuoDERM Ex Thin 9cm x 15cm Wound Dress H', 2),\n",
       " ('Co-Tenidone_Tab 100mg/25mg', 150),\n",
       " ('Medroxyprogest Acet_Tab 10mg', 107),\n",
       " ('Mylife Clickfine Needles Pen Inj Snap On', 319),\n",
       " ('Ursodeoxycholic Acid_Tab 150mg', 64),\n",
       " ('Aspirin Disper_Tab 75mg', 78830),\n",
       " ('Hollister_Moderma Flex Convex FlextendUr', 5),\n",
       " ('ActivHeal Aquafiber Rope 2cm x 42cm Woun', 4),\n",
       " ('Propranolol HCl_Oral Soln 40mg/5ml S/F', 7),\n",
       " ('Sinemet-Plus_Tab 125mg', 791),\n",
       " ('Ciclesonide_Inh 160mcg (120 D) CFF', 10),\n",
       " ('Clarithromycin_Tab 250mg', 1443),\n",
       " ('Chlorhex Acet_Dust Pdr 1%', 2),\n",
       " ('Sildenafil_Tab 100mg', 7433),\n",
       " ('Calcipotriol_Oint 50mcg/1g', 729),\n",
       " ('Cozaar_Tab 12.5mg', 24),\n",
       " ('Carbocisteine_Oral Soln 250mg/5ml', 1016),\n",
       " ('Isosorbide Dinit_Tab 20mg M/R', 26),\n",
       " ('Tegretol_Tab 100mg', 900),\n",
       " ('Co-Danthrusate_Cap 50mg/60mg', 9),\n",
       " ('Gabapentin_Cap 300mg', 19848),\n",
       " ('Durafiber 10cm x 10cm Wound Dress Protea', 69),\n",
       " ('Simvador_Tab 40mg', 317),\n",
       " ('Coloplast_Trident T1 Leg Bag 500ml Long', 9),\n",
       " ('Clotrimazole_Soln 1%', 38),\n",
       " ('Tubifast 2-Way Stch Leggings 2-5 Yrs Ela', 2),\n",
       " ('kliniderm superabsorbent 10cm x 15cm Pfa', 8),\n",
       " ('EarCalm_P/Spy 2% 5ml', 27),\n",
       " ('Fluvoxamine Mal_Tab 100mg', 34),\n",
       " ('Hydrofilm 20cm x 30cm Vp Adh Film Dress', 2),\n",
       " ('Trospium Chlor_Tab 20mg', 488),\n",
       " ('Beclomet Diprop_Inha 50mcg (200 D) CFF', 79),\n",
       " ('Priadel_Tab 200mg', 1110),\n",
       " ('Balneum Plus_Bath Oil', 272),\n",
       " ('Saizen_Inj 12mg/1.5ml Cart', 9),\n",
       " ('Calc Carb_Tab Chble 1.5g (600mg) S/F', 341),\n",
       " ('Tegretol_Liq 100mg/5ml S/F', 152),\n",
       " ('Fybogel_H/Fbre Gran Eff Sach3.5g OrngS/F', 99),\n",
       " ('Genotropin_Inj 5.3mg Cart', 2),\n",
       " ('Unguentum M_Crm', 98),\n",
       " ('Sod Bicarb_Oral Soln 420mg/5ml S/F', 3),\n",
       " ('Madopar_Tab Disper 50mg/12.5mg', 116),\n",
       " ('Captopril_Tab 12.5mg', 15),\n",
       " ('Cetraben Crm 500g', 5103),\n",
       " ('Similac Alimentum_Pdr', 93),\n",
       " ('Erythromycin_Cap E/C 250mg', 66),\n",
       " ('Cefadroxil_Cap 500mg', 2),\n",
       " ('ReplensMD Vag Moist 35g Tube', 322),\n",
       " ('Atorvastatin_Tab 40mg', 43820),\n",
       " ('Acnecide_Gel Wash 5%', 3),\n",
       " ('B.Braun Actreen Hi-Lite Male Nelaton 8-1', 2),\n",
       " ('Medroxyprogest Acet_Tab 5mg', 9),\n",
       " ('Sucralfate_Tab 1g', 9),\n",
       " ('Dropodex_Eye Dps 0.1% 0.4ml Ud', 4),\n",
       " ('Otovent Inflation Dev Auto', 9),\n",
       " ('Dymista_Nsl Spy 50mcg/137mcg (120 D)', 280),\n",
       " ('Zincomed_Cap 220mg', 2),\n",
       " ('Aciclovir_Crm 5%', 740),\n",
       " ('Diclofenac Sod_Gel 1.16%', 6179),\n",
       " ('Allevyn Gentle Border 10cm x 20cm Wound', 18),\n",
       " ('Dansac_NovaLife 1 Closed Colo Bag Midi O', 5),\n",
       " ('Zipzoc_Zn Ox Impregnated Medic Stkn', 68),\n",
       " ('Bactroban_Oint 2%', 5),\n",
       " ('Miconazole_Oromucosal Gel 20mg/g S/F', 698),\n",
       " ('Vanilla Blush_Ladies Brief Mixed Size 6-', 2),\n",
       " ('Cocois_Oint', 97),\n",
       " ('Pramipexole_Tab 260mcg M/R', 14),\n",
       " ('Depo-Medrone_Inj 40mg/1ml Vl', 368),\n",
       " ('Oxycodone HCl_Oral Soln 5mg/5ml S/F', 834),\n",
       " ('FemSeven 50_Patch 50mcg/24hrs', 5),\n",
       " ('Synalar_Gel 0.025%', 49),\n",
       " ('Zetuvit E (Non-Ster) 20cm x 40cm Pfa Cel', 23),\n",
       " ('Timolol_Gel Eye Dps 0.25%', 70),\n",
       " ('Cutimed Siltec Sorbact 7.5cm x 7.5cm Wou', 5),\n",
       " ('Ispag Husk_Gran Eff Sach 3.5g G/F S/F', 2622),\n",
       " ('Repinex XL_Tab 2mg', 24),\n",
       " (\"Glycerol_Suppos Adult's (4g)\", 676),\n",
       " ('Calcipotriol/Betameth_Oint 0.005%/0.05%', 1022),\n",
       " ('Depixol_Inj 20mg/ml 1ml Amp', 3),\n",
       " ('CliniMed_LBF Ster No Sting Barrier Film', 218),\n",
       " ('Malathion_Aq Lot 0.5%', 93),\n",
       " ('Bedranol S.R._Cap 80mg (Sandoz)', 4),\n",
       " ('Fluoxetine HCl_Oral Soln 20mg/5ml S/F', 41),\n",
       " ('Asasantin Ret_Cap', 58),\n",
       " ('Terbinafine HCl_Crm 1%', 693),\n",
       " ('Aquacel 15cm x 15cm Wound Dress Protease', 5),\n",
       " ('Memantine HCl_Oral Soln 10mg/ml S/F', 103),\n",
       " ('Irriclens Sod Chlor Top Irrig A/Spy 240m', 114),\n",
       " ('QV Bath Oil', 11),\n",
       " ('Co-Beneldopa_Tab Disper 25mg/100mg S/F', 71),\n",
       " ('Solpadol_Cap 30mg/500mg', 33),\n",
       " ('Clonazepam_Tab 2mg', 399),\n",
       " ('Cutimed Siltec 10cm x 10cm Wound Dress S', 4),\n",
       " ('Melophthal 1% Carmellose Eye Dps 0.4ml U', 5),\n",
       " ('Tizanidine HCl_Tab 4mg', 53),\n",
       " ('Sod Valpr_Gran Sach 250mg M/R S/F', 2),\n",
       " ('Olmesartan Medox/Hydchloroth_Tab 20/12.5', 7),\n",
       " ('Dexameth_Tab 500mcg', 127),\n",
       " ('Tadalafil_Tab 20mg', 1225),\n",
       " ('Psoriderm_Emuls Bath Add 40%', 2),\n",
       " ('BSN_Cutimed Prote Spy', 21),\n",
       " ('Azathioprine_Tab 50mg', 2472),\n",
       " ('Adoport_Cap 2mg', 4),\n",
       " ('Tinzaparin Sod_Inj 10 000u/ml 0.35ml Pfs', 11),\n",
       " ('Glucojuice_Liq', 20),\n",
       " ('GlucoRx FinePoint Ultra Needles Pen Inj', 235),\n",
       " ('Dalteparin Sod_Inj 25 000u/ml 0.6ml Pfs', 36),\n",
       " ('Betameth Sod Phos_Tab Solb 500mcg', 69),\n",
       " ('Caphosol Soln', 2),\n",
       " ('Premarin_Tab 300mcg', 5),\n",
       " ('Budesonide_Cap 3mg (E/C M/R Gran)', 4),\n",
       " ('Valupak_Multivit Tab OAD', 250),\n",
       " ('Viazem XL_Cap 360mg', 51),\n",
       " ('Forticreme Complete_Dessert (Choc)', 65),\n",
       " ('Zonegran_Cap 50mg', 4),\n",
       " ('Prucalopride_Tab 2mg', 236),\n",
       " ('UrgoClean Pad 10cm x 10cm Wound Dress Pr', 6),\n",
       " ('Codeine Phos_Tab 15mg', 7358),\n",
       " ('Glycopyrronium Brom_Tab 1mg', 7),\n",
       " ('Actikerall_Cutaneous Soln 5mg/g 100mg/g', 3),\n",
       " ('Minocycline HCl_Cap 100mg M/R', 29),\n",
       " ('QV Intensive Oint', 27),\n",
       " ('Unspecified Stkntte 10cm x 0.5m  Elasctd', 2),\n",
       " ('Aprovel_Tab 150mg', 6),\n",
       " ('Gaviscon Double Action_Liq (Peppermint)', 85),\n",
       " ('Hydrous_Oint', 252),\n",
       " ('Hollister_Moderma Flex Maxi Drnbl Pch Tr', 2),\n",
       " ('Uniphyllin Continus_Tab 400mg', 242),\n",
       " ('Ins NovoRapid_Inj 100u/ml 10ml Vl', 461),\n",
       " ('Simple_Linct Paed S/F', 774),\n",
       " ('Metoject_PEN Inj 20mg/0.4ml Pf Pen', 40),\n",
       " ('CliniSorb 10cm x 20cm Wound Dress Activa', 5),\n",
       " ('Metoject_PEN Inj 15mg/0.3ml Pf Pen', 34),\n",
       " ('Cinacalcet HCl_Tab 30mg', 66),\n",
       " ('Frusol_Oral Soln 40mg/5ml S/F', 7),\n",
       " ('Menthol In Aq_Crm 0.5%', 5),\n",
       " ('Bard_Urisleeve Leg Bag Holder Lge (40-70', 5),\n",
       " ('Fluticasone Prop_Inha 50mcg (120 D) CFF', 172),\n",
       " ('Rotigotine_Transdermal Patch 1mg/24hrs', 10),\n",
       " ('Isosorbide Mononit_Tab 10mg', 3881),\n",
       " ('Cialis_Tab 5mg', 92),\n",
       " ('T-Safe 380A QL Iucd', 6),\n",
       " ('TRUEyou (Reagent)_Strips', 1076),\n",
       " ('Betameth Val_Scalp Applic 0.1%', 1869),\n",
       " ('TRUEplus Lancets 0.195mm/33 Gauge', 126),\n",
       " ('Dipyridamole M/R/Aspirin_Cap 200mg/25mg', 89),\n",
       " ('Diltiazem HCl_Cap 240mg M/R', 38),\n",
       " ('UrgoClean Rope 2.5cm x 40cm Wound Dress', 8),\n",
       " ('Cutimed Sorbact Gel 7.5cm x 7.5cm Wound', 3),\n",
       " ('InVita D3_Oral Soln 25 000u/1ml', 766),\n",
       " ('Sod Picosulf_Oral Soln 5mg/5ml S/F', 750),\n",
       " ('Nutrison Pack_Energy M/Fibre', 33),\n",
       " ('DuoResp Spiromax_Inh 160mcg/4.5mcg(120D)', 3208),\n",
       " ('Co-Careldopa_Tab 25mg/100mg', 894),\n",
       " ('Lactulose_Soln 10g/15ml Sach 15ml S/F', 40),\n",
       " ('Seroquel_Tab 100mg', 3),\n",
       " ('Bezafibrate_Tab 200mg', 299),\n",
       " ('Prestylon_Cap 1g', 8),\n",
       " ('Ins NovoRapid_FlexPen 100u/ml 3ml Pf Pen', 3672),\n",
       " ('Mepilex Border 17cm x 20cm Wound Dress S', 2),\n",
       " ('Dilzem SR 60_Cap 60mg', 158),\n",
       " ('Atenolol_Tab 100mg', 4606),\n",
       " ('Lido HCl_Inj 2% 2ml Amp', 305),\n",
       " ('Rochester_UltraFlex Clr Slc Sheath Self-', 4),\n",
       " ('Naproxen_Tab 500mg', 18933),\n",
       " ('Rabeprazole Sod_Tab E/C 20mg', 907),\n",
       " ('Coloplast_Trident T1 Leg Bag 350ml Short', 3),\n",
       " ('Otrivine_Adult Nsl P/Spy 0.1% 10ml', 5),\n",
       " ('Pioglitazone HCl_Tab 45mg', 1162),\n",
       " ('Stalevo_Tab 150mg/37.5mg/200mg', 38),\n",
       " ('Fluanxol_Tab 1mg', 4),\n",
       " ('Cyclogest_Pess 400mg', 2),\n",
       " ('Hollister_Conform 2 Urost Pouch + Soft T', 5),\n",
       " ('Lodine Sr_Tab 600mg', 27),\n",
       " ('Dapsone_Tab 50mg', 43),\n",
       " ('Nicardipine HCl_Cap 45mg M/R', 2),\n",
       " ('Dansac_Nova 1 Convex Urost Pouch Clr C/F', 4),\n",
       " ('Hollister_Adapt Slim Barrier Rings 48mm', 8),\n",
       " ('Zerolatum Plus_Bath Additive', 2),\n",
       " ('Nicotine_Transdermal Patch 25mg/16hrs', 110),\n",
       " ('Buprenorphine_Patch 35mcg/hr (96hr)', 139),\n",
       " ('Xemacort_Crm', 2),\n",
       " ('CliniSupplies_Leg Bag Straps + Slc Leg G', 8),\n",
       " ('Juvela_G/F Loaf Wte (Ucut)', 2),\n",
       " ('Stalevo_Tab 100mg/25mg/200mg', 93),\n",
       " ('Mesalazine_Gran Sach 500mg M/R', 9),\n",
       " ('Betameth Diprop_Scalp Lot 0.05%', 10),\n",
       " ('Cilostazol_Tab 50mg', 8),\n",
       " ('Formoterol Fumar_Pdr For Inh 12mcg(60 D)', 53),\n",
       " ('Starch Maize Modified_Pdr Sach 12g G/F', 2),\n",
       " ('CosmoCol_Oral Pdr Sach (Lem & Lim)', 209),\n",
       " ('Mirtazapine_Tab 15mg', 11744),\n",
       " ('Ins Insuman Basal_100u/ml 3ml Cart', 2),\n",
       " ('Deponit 10_Patch', 2),\n",
       " ('Ins Humalog_100u/ml 10ml Vl', 86),\n",
       " ('Vortioxetine_Tab 20mg', 15),\n",
       " ('Epilim Chrono 300_Tab 300mg C/R', 1273),\n",
       " ('Isotard 25 XL_Tab 25mg', 95),\n",
       " ('Bard_Urisleeve Leg Bag Holder Sml (24-39', 2),\n",
       " ('Telfast 120_Tab 120mg', 4),\n",
       " ('Hyoscine Hydrob_Tab 150mcg', 16),\n",
       " ('Aquacel Foam Non-Adhesive 5cm x 5cm Woun', 2),\n",
       " ('Calc Acet_Tab 475mg', 6),\n",
       " ('Vaseline_Pure Petroleum Jelly', 4),\n",
       " ('Venaxx XL_Cap 75mg', 129),\n",
       " ('Medikinet_Tab 5mg', 42),\n",
       " ('Bimatoprost_Eye Dps 300mcg/ml 0.4ml Ud', 495),\n",
       " ('Colecal & Calc_Tab Chble 880u/2.5g', 262),\n",
       " ('Epaderm Crm', 2146),\n",
       " ('Ener-G_G/F W/F Rice Bread Brown', 2),\n",
       " ('Coloplast_Simpla Plus Leg Bag Ster 500ml', 32),\n",
       " ('Bezalip-Mono_Tab 400mg', 45),\n",
       " ('Lido HCl/Prilocaine_Crm 2.5%/2.5%', 164),\n",
       " ('Tapentadol HCl_Tab 100mg M/R', 95),\n",
       " ('Tricotex Dress (Type 1) 9.5cm x 9.5cm Kt', 15),\n",
       " ('Dalteparin Sod_Inj 25 000u/ml 0.72ml Pfs', 77),\n",
       " ('Labetalol HCl_Tab 50mg', 8),\n",
       " ('Normacol_Gran 62% Sach 7g', 2),\n",
       " ('Coloplast_SenSura Maxi Drnbl Bag SplitS/', 18),\n",
       " ('Aveeno_Daily Moist Lot', 12),\n",
       " ('Quetiapine_Tab 150mg M/R', 43),\n",
       " ('Imuran_Tab 50mg', 42),\n",
       " ('Calcichew D3_Capl 500mg/400u', 367),\n",
       " ('Midazolam_Oromuc Soln 10mg/2ml Pfos S/F', 19),\n",
       " ('Metronidazole_Crm 0.75%', 292),\n",
       " ('Co-Beneldopa_Cap 12.5mg/50mg', 510),\n",
       " ('Tamoxifen Cit_Tab 20mg', 2510),\n",
       " ('Hirudoid_Crm 0.3%', 66),\n",
       " ('Oxcarbazepine_Tab 150mg', 28),\n",
       " ('Serc-8_Tab 8mg', 18),\n",
       " ('Oxybutynin HCl_Tab 2.5mg', 2737),\n",
       " ('Mepilex XT 10cm x 11cm Wound Dress Soft', 7),\n",
       " ('Selsun_Shampoo 2.5%', 31),\n",
       " ('Subutex_Tab Subling 8mg', 16),\n",
       " ('Dovonex_Oint 50mcg/1g', 100),\n",
       " ('Hollister_Moderma Flex Flextend Urost Ba', 5),\n",
       " ('Levonelle_Tab 1.5mg', 72),\n",
       " ('Paramax_Tab', 57),\n",
       " ('Prempak-C_C/Pk Tab 625mcg/150mcg', 143),\n",
       " ('Convatec_C/Sive Natura Drnbl Pch + Fltr', 2),\n",
       " ('Sukkarto SR_Tab 1000mg', 701),\n",
       " ('Contour Next (Reagent)_Strips', 2341),\n",
       " ('Nizoral_Shampoo 2%', 229),\n",
       " ('Stalevo_Tab 125mg/31.25mg/200mg', 45),\n",
       " ('Adaptic Touch 5cm x 7.6cm Wound Dress So', 2),\n",
       " ('Metronidazole_Tab 500mg', 2),\n",
       " ('ClikSTAR Blue 3ml 1u (1-80u) Hypod Reusa', 2),\n",
       " ('Methylpred Acet/Lidoc_Inj 80/20mg/2ml Vl', 19),\n",
       " ('GlucoRx Nexus (Reagent)_Strips', 3637),\n",
       " ('Sylk Vag Moist 40g Tube', 224),\n",
       " ('Sharpsafe 4L', 12),\n",
       " ('OxyContin_Tab 30mg M/R', 5),\n",
       " ('Mepitel One 9cm x 10cm Wound Dress Soft', 2),\n",
       " ('Galantamine_Cap 16mg M/R', 33),\n",
       " ('Diclofenac Pot_Tab 50mg', 18),\n",
       " ('Estraderm MX 75_Patch', 2),\n",
       " ('Doxepin_Cap 50mg', 14),\n",
       " ('Oakmed_EasyLease No Sting Medic Adh Remo', 15),\n",
       " ('Epilim_Liq 200mg/5ml S/F', 369),\n",
       " ('Ins Degludec_200u/ml 3ml Pf Pen', 8),\n",
       " ('Gabapentin_Tab 800mg', 57),\n",
       " ('Adizem-XL_Cap 200mg', 182),\n",
       " ('Vitaros_Crm 3mg/g', 2),\n",
       " ('Targinact_Tab 5mg/2.5mg M/R', 4),\n",
       " ('Kentipine MR 10_Tab 10mg', 3),\n",
       " ('Locoid Lipocream_Crm 0.1%', 77),\n",
       " ('Budesonide_Pdr For Inh 100mcg (200 D)', 77),\n",
       " ('Fluoxetine HCl_Cap 30mg', 19),\n",
       " ('Clotrimazole_Spy 1% 40ml', 7),\n",
       " ('Methylphenidate HCl_Tab 20mg', 38),\n",
       " ('Gliclazide_Tab 40mg', 5309),\n",
       " ('Phos-Sandoz_Tab Eff', 10),\n",
       " ('Nasacort_Allergy Nsl Spy 55mcg (30D)', 3),\n",
       " ('Nu-Seals 75_Tab E/C 75mg', 14),\n",
       " ('Driclor_A-Pers Soln 20%', 18),\n",
       " ('Urea_Crm 10%', 68),\n",
       " ('C-View 6cm x 7cm VP Adh Film Dress', 9),\n",
       " ('Medihoney A-Bact Honey 20g Wound Dress H', 2),\n",
       " ('CliniSupplies_ProSys Night Bag Lever Out', 28),\n",
       " ('Prednisolone_Oral Soln 5mg/5ml Ud', 60),\n",
       " ('Clement Clarke Stnd Range Peak Flow Mete', 224),\n",
       " ('Coloplast_SenSura Soft Seal Bag Split Mi', 2),\n",
       " ('Pioglitazone/Metformin HCl_Tab15mg/850mg', 131),\n",
       " ('Hospiform 10cm x 4m Conform Syn Band', 10),\n",
       " ('Fluclox Sod_Oral Soln 250mg/5ml S/F', 238),\n",
       " ('Emerade_Auto Inj 1/1000 1mg/ml 0.15ml', 5),\n",
       " ('Venlafaxine_Tab 225mg M/R', 1291),\n",
       " ('Kemadrin_Tab 5mg', 171),\n",
       " ('Betnovate RD_Crm 0.025%', 141),\n",
       " ('Respond_OstoMart OstoPEEL Frag/Free NoSt', 5),\n",
       " ('Microlet Lancets 0.5mm/28 Gauge', 1488),\n",
       " ('Piloc HCl_Eye Dps 4%', 6),\n",
       " ('Convatec_Colodress Plus Closed Pouch Opq', 2),\n",
       " ('Sorbsan Ribbon (+ Probe) 40cm Wound Dres', 24),\n",
       " ('SMA_Lf Pdr', 94),\n",
       " ('Abtard_Tab 20mg M/R', 8),\n",
       " ('Tiotropium/Olodaterol_Inha2.5/2.5mcg 60D', 36),\n",
       " ('Trusopt_Eye Dps 2% 0.2ml Ud P/F', 13),\n",
       " ('Canesten_Vag Tab 200mg + Applic', 3),\n",
       " ('Almond Oil_Liq', 3),\n",
       " ('Triamcinol Aceton_Aq Nsl Spy 55mcg(120D)', 190),\n",
       " ('Sumatriptan_Tab 100mg', 1195),\n",
       " ('Levothyrox Sod_Oral Soln 100mcg/5ml S/F', 10),\n",
       " ('Captopril_Tab 50mg', 64),\n",
       " ('Simple_Linct Paed', 273),\n",
       " ('Pelican_Cohesive Slims Sml 48mm', 21),\n",
       " ('Clopixol Conc_Inj 500mg/ml 1ml Amp', 3),\n",
       " ('Risperdal_Oral Soln 1mg/1ml', 2),\n",
       " ('Salbulin Novolizer_Inh 100mcg (200D)+Dev', 5),\n",
       " ('Spironol_Tab 100mg', 1022),\n",
       " ('Lodoxamide Trometamol_Eye Dps 0.1%', 13),\n",
       " ('Acarbose_Tab 100mg', 6),\n",
       " ('Durogesic DTrans_T/Derm Patch 25mcg', 74),\n",
       " ('Fluorome_Eye Dps 0.1%', 29),\n",
       " ('Protopic_Oint 0.03%', 15),\n",
       " ('Biotene_Dry Mth A-Bact Toothpaste (Orig)', 6),\n",
       " ('Nexium_Tab 20mg', 86),\n",
       " ('Sotalol HCl_Tab 160mg', 4),\n",
       " ('Comfifast 5cm x 5m (Green) Stkntte Elasc', 2),\n",
       " ('Bydureon_Inj 2mg Pdr + Dil Pf Pen P/R', 101),\n",
       " ('Edoxaban_Tab 60mg', 83),\n",
       " ('Denosumab_Inj 60mg/1ml Pfs', 69),\n",
       " ('Fentanyl_Transdermal Patch 37.5mcg/hr', 36),\n",
       " ('Omeprazole_Cap E/C 10mg', 7619),\n",
       " ('Darifenacin Hydrob_Tab 15mg M/R', 206),\n",
       " ('Levofloxacin_Tab 250mg', 7),\n",
       " ('Dosulepin HCl_Tab 75mg', 1639),\n",
       " ('Co-Beneldopa_Tab Disper 12.5mg/50mg S/F', 135),\n",
       " ('Hylo-Forte Sod Hyaluronate Eye Dps 0.2%', 3009),\n",
       " ('Profore #4 10cm x 2.5m M/Layer Compress', 7),\n",
       " ('Bio-Vitamin D3_Cap 1000u', 9),\n",
       " ('Fucibet_Crm', 944),\n",
       " ('Tegaderm Alginate Ag 5cm x 5cm Wound Dre', 2),\n",
       " ('Activa Leg Ulcer Hose Kit Lge Clsd Toe C', 8),\n",
       " ('Risperidone_Tab 6mg', 16),\n",
       " ('Mag Hydrox_Oral Susp 415mg/5ml S/F', 3),\n",
       " ('Ramipril_Cap 10mg', 44098),\n",
       " ('Coloplast_SenSura Maxi Drnbl Bag Transpt', 7),\n",
       " ('Longtec_Tab 80mg M/R', 157),\n",
       " ('Bard Biocath Compreh/Care Foy Tray Male', 159),\n",
       " ('Uro-Tainer Twin Solution R 2 x 30ml Cath', 12),\n",
       " ('Diltiazem HCl_Cap 360mg M/R', 8),\n",
       " ('Zelleta_Tab 75mcg', 442),\n",
       " ('Hypromellose_Eye Dps 0.32% 0.5ml Ud', 10),\n",
       " ('PaediaSure_Liq (Vanilla)', 8),\n",
       " ('Zomorph_Cap 60mg', 563),\n",
       " ('Salts_Confidence Natural Advance Clsd Pc', 8),\n",
       " ('Bonjela_Gel 8.7% S/F', 41),\n",
       " ('Hypromellose_Eye Dps 0.5%', 1890),\n",
       " ('Olmetec_Tab 40mg', 2),\n",
       " ('Carbimazole_Tab 20mg', 374),\n",
       " ('Lamivudine_Tab 100mg', 3),\n",
       " ('Prograf_Cap 1mg', 159),\n",
       " ('Cilostazol_Tab 100mg', 89),\n",
       " ('Salts_Confidence Comfort Drnbl Pch Trans', 3),\n",
       " ('Isosorbide Dinit_Tab 20mg', 43),\n",
       " ('Nicorette Invisi_Patch 25mg/16hrs', 68),\n",
       " ('ReQuip XL_Tab 2mg', 8),\n",
       " ('Bisoprolol Fumar_Tab 3.75mg', 2926),\n",
       " ('Sirdupla_Inh 125mcg/25mcg (120D)', 1550),\n",
       " ('Arcoxia_Tab 60mg', 20),\n",
       " ('Oxyal Sod Hyaluronate Eye Dps 10ml', 155),\n",
       " ('Glucoject PLUS Lancets 0.20mm/33 Gauge', 466),\n",
       " ('Oxycodone HCl_Tab 60mg M/R', 23),\n",
       " ('Betoptic_Eye Dps 0.5%', 4),\n",
       " ('Humapen Luxura HD 3ml 0.5u (1-30u) Hypod', 4),\n",
       " ('Lyrica_Cap 225mg', 121),\n",
       " ('Exenatide_Inj 10mcg/0.04ml 2.4mlPfs(60D)', 279),\n",
       " ('Pregabalin_Cap 100mg', 1766),\n",
       " ('Spasmonal Fte_Cap 120mg', 14),\n",
       " ('Venlafaxine_Tab 75mg M/R', 1552),\n",
       " ('Lithium Carb_Tab 200mg M/R', 44),\n",
       " ('Great Bear_GB4 Night Drain Bag 2L', 20),\n",
       " ('Easyhaler_Beclomet 200mcg (200 D)', 83),\n",
       " ('Ethinylest/Norethist Acet_Tab 20mcg/1mg', 8),\n",
       " ('Co-Cyprindiol_Tab 2mg/35mcg', 295),\n",
       " ('Sod Cromoglicate_Inha 5mg (112D) CFF', 7),\n",
       " ('Diprobase_Crm', 4506),\n",
       " ('Ambirix_Vac 720u/20mcg/ml 1ml Pfs', 69),\n",
       " ('Allevyn Adh 12.5cm x 12.5cm Wound Dress', 52),\n",
       " ('Aymes Shake_Pdr (Neutral)', 17),\n",
       " ('Zerocream (Appl)', 1872),\n",
       " ('Phenergan_Tab 25mg', 47),\n",
       " ('Colecal_Oral Soln 50 000u/ml 1ml Ud S/F', 13),\n",
       " ('Dapoxetine HCl_Tab 30mg', 2),\n",
       " ('Omeprazole_Oral Susp 5mg/5ml', 6),\n",
       " ('CliniFix Tube Holder 110mm x 25mm Cath A', 6),\n",
       " ('Diethylamine Sal_Crm 10% BP', 1543),\n",
       " ('Lamictal_Tab Disper 25mg', 13),\n",
       " ('Risperidone_Oral Soln 1mg/1ml S/F', 146),\n",
       " ('Trimovate_Crm', 633),\n",
       " ('Maxijul Super Solb_Pdr', 24),\n",
       " ('Colecal_Oral Dps 200u/Drop S/F', 7),\n",
       " ('Salts_SecuPlast Mouldable Seals Thin', 17),\n",
       " ('Risperidone_Orodisper Tab 500mcg S/F', 5),\n",
       " ('Cardicor_Tab 2.5mg', 53),\n",
       " ('Colecal_Cap 2 500u', 3),\n",
       " ('Polymyxin / Bacitracin_Oint', 3),\n",
       " ('Gentisone HC_Ear Dps', 2),\n",
       " ('Spiriva_Pdr For Inh Cap 18mcg', 1623),\n",
       " ('Dexameth Phos_Inj 3.3mg/ml 1ml Amp', 6),\n",
       " ('Adenuric_Tab 80mg', 2),\n",
       " ('Thiamine HCl_Tab 100mg', 11339),\n",
       " ('Jobst UltraSheer Class 1 Knee High Close', 4),\n",
       " ('OptiLube Active Ster Syrg Lubricant Gel', 67),\n",
       " ('Amlodipine_Oral Soln 5mg/5ml S/F', 4),\n",
       " ('Hollister_Conform 2 + Lock/Roll Maxi Drn', 5),\n",
       " ('Adcal-D3_Capl 750mg/200u', 7801),\n",
       " ('Keppra_Tab 500mg', 387),\n",
       " ('Barkat_G/F W/F Porridge', 2),\n",
       " ('Phenytoin_Oral Susp 30mg/5ml', 28),\n",
       " ('Bisoprolol Fumar_Tab 10mg', 10326),\n",
       " ('Jade_Ultra Flex Extra Self-Adh Sheath Cl', 2),\n",
       " ('Toujeo_300u/ml 1.5ml Pf SoloStar Pen', 223),\n",
       " ('Betnovate RD_Oint 0.025%', 117),\n",
       " ('Neoral_Cap 25mg', 24),\n",
       " ('Menadiol Sod Phos_Tab 10mg', 48),\n",
       " ('Flixotide_Evohaler 50mcg (120 D)', 30),\n",
       " ('Engerix B_Vac 20mcg/ml 1ml Vl', 29),\n",
       " ('Seroquel XL_Tab 300mg', 5),\n",
       " ('Sacubitril/Valsartan_Tab 24mg/26mg', 10),\n",
       " ('Dihydrocodeine Tart_Tab 60mg M/R', 691),\n",
       " ('Lofepramine HCl_Tab 70mg', 780),\n",
       " ('Vital 1.5kcal_Liq (Vanilla)', 6),\n",
       " ('Clobetasol Prop_Shampoo 500mcg/g', 15),\n",
       " ('Methadone HCl_Mix 1mg/1ml', 541),\n",
       " ('Allevyn Gentle Border 12.5cm x 12.5cm Wo', 102),\n",
       " ('Beclomet Diprop/Formoterol_Inh100/6(120D', 2247),\n",
       " ('Innovace_Tab 20mg', 2),\n",
       " ('Fortini_Creamy Fruit Multi Fibre (2Flav)', 2),\n",
       " ('Coloplast SpeediCath Compact Male OneSiz', 120),\n",
       " ('Mercaptopurine_Tab 50mg', 146),\n",
       " ('Zetuvit Plus 20cm x 40cm Super-Absorb Dr', 62),\n",
       " ('Brivaracetam_Tab 100mg', 2),\n",
       " ('Propantheline Brom_Tab 15mg', 178),\n",
       " ('Nicardipine HCl_Cap 20mg', 7),\n",
       " ('Acitretin_Cap 10mg', 3),\n",
       " ('Clonidine HCl_Tab 25mcg', 2030),\n",
       " ('H & R_Proshield Foam & Spy Skin Cleanser', 763),\n",
       " ('Medicareplus_Medi Derma-S N/Sting Medic', 69),\n",
       " ('Salofalk_Gran Sach G/R 1.5g M/R', 6),\n",
       " ('Diclofenac Sod_Gel 2.32%', 731),\n",
       " ('Depakote_Tab G/R 500mg', 1035),\n",
       " ('Liq Paraf Light/Wte Soft Paraf_Crm 6/15%', 31),\n",
       " ('Crestor_Tab 10mg', 2),\n",
       " ('Lido HCl_Inj 1% 10ml Amp', 7),\n",
       " ('Salts_Urine Drain Bag 2000ml', 12),\n",
       " ('Colecal/Calc_Eff Gran Sach 440u/1.25g 4g', 90),\n",
       " ('Renasys-F Foam Dress Kit + Soft Port Sml', 3),\n",
       " ('Pyridox HCl_Tab 10mg', 32),\n",
       " ('BGStar Ultra-Thin Lancets 0.20mm/33 Gaug', 121),\n",
       " ('Cyprote Acet_Tab 50mg', 71),\n",
       " ('Xenidate XL_Tab 27mg', 13),\n",
       " ('Prontosan Top Irrig 40ml', 7),\n",
       " ('CliniMed_LiMone Deod A/Spy 50ml', 53),\n",
       " ('Pramipexole_Tab 2.1mg M/R', 6),\n",
       " ('Vesicare_Tab 5mg', 150),\n",
       " ('U100 BD SafetyGlide Sle Use 0.3ml + 8mm', 4),\n",
       " ('Colecal & Calc_Tab Chble 400u/1.5g', 7699),\n",
       " ('Glutafin_G/F Fibre Roll x 4 P/bake', 23),\n",
       " ('Qvar 50 E-Breathe_Inha 50mcg (200 D)', 264),\n",
       " ('Biatain Slc 7.5cm x 7.5cm Wound Dress So', 51),\n",
       " ('Ins Apidra SoloStar_100u/ml 3ml PF Pen', 272),\n",
       " ('Trandate_Tab 200mg', 25),\n",
       " ('ConvaTec_Esteem+ Drnbl Pch+Invis Outl Mo', 2),\n",
       " ('Pregabalin_Cap 225mg', 396),\n",
       " ('Epanutin_Susp 30mg/5ml', 6),\n",
       " ('Dermovate_Crm 0.05%', 403),\n",
       " ('Rozex_Crm 0.75%', 22),\n",
       " ('Co-Trimoxazole_Tab 80mg/400mg', 320),\n",
       " ('Glucagon_Inj (rys) 1mg Vl + Dil', 45),\n",
       " ('Timolol_Eye Dps 0.5%', 664),\n",
       " ('Degarelix_Inj 80mg Vl + Dil', 55),\n",
       " ('Simple_Linct S/F', 1032),\n",
       " ('BD Micro-Fine + Lancets 0.3mm/30 Gauge', 46),\n",
       " ('Softpore 10cm x 20cm Pfa + Adh Border Dr', 5),\n",
       " ('Canesten_Oral&Crm Duo(1 Cap 150mg/Crm2%)', 2),\n",
       " ('Juvela_G/F Fresh Roll Wte', 2),\n",
       " ('Trental 400_Tab 400mg', 3),\n",
       " ('Eurax-Hc_Crm', 10),\n",
       " ('Juvela_G/F W/F Crispy Rice Cereal', 13),\n",
       " ('Adalat Ret_Tab 20mg', 360),\n",
       " ('Foodlink_Complete S/Pack Pdr', 3),\n",
       " ('Ramipril_Tab 2.5mg', 1205),\n",
       " ('Sotalol HCl_Tab 40mg', 1061),\n",
       " ('Salbutamol_Pdr For Inh 200mcg (60 D)', 681),\n",
       " ('Zetuvit Plus 10cm x 10cm Super-Absorb Dr', 51),\n",
       " ('Innozide_Tab', 2),\n",
       " ('Morph Sulf_Oral Soln 10mg/5ml', 6536),\n",
       " ('Welland_FreeStyle Vie Closed Pouch Clr L', 2),\n",
       " ('Zuclopenth Decan_Inj 500mg/ml 1ml Amp', 9),\n",
       " ('Trandolapril_Cap 2mg', 83),\n",
       " ('Venlalic XL_Tab 75mg', 257),\n",
       " ('Adalat_Cap 5mg', 94),\n",
       " ('Butec_Transdermal Patch 20mcg/hr', 607),\n",
       " ('Flomaxtra XL_Tab 400mcg P/R', 10),\n",
       " ('Comfifast 10.75cm x 3m (Yellow)Stkntte E', 14),\n",
       " ('Trifluoperazine_Oral Soln 1mg/5ml S/F', 3),\n",
       " ('Ethinylest/Desogestrel_Tab 30mcg/150mcg', 57),\n",
       " ('Irbesartan_Tab 150mg', 3750),\n",
       " ('Cilique_Tab', 32),\n",
       " ('Diprosalic_Oint 0.05%/3%', 422),\n",
       " ('Ethosuximide_Cap 250mg', 34),\n",
       " ('Carmellose Sod_Eye Dps 0.5% 0.4ml Ud P/F', 583),\n",
       " ('Optive Fusion Sod Hyaluronate Eye Dps 10', 287),\n",
       " ('Pelican_Select Drnbl Convex Pouch Clr St', 34),\n",
       " ('Dansac_NovaLife 1 Closed Colo Bag Mini O', 7),\n",
       " ('Prednisolone Acet_Eye Dps 1%', 152),\n",
       " ('E45_Itch Relief Crm', 819),\n",
       " ('Daktacort_Oint', 447),\n",
       " ('Omeprazole_Tab E/C 10mg', 32),\n",
       " ('Fencino_Transdermal Patch 12mcg/hr', 349),\n",
       " ('Corn Rings 5mm Thick', 7),\n",
       " ('Salts_SecuPlast Aloe Rings 32mm', 2),\n",
       " ('Lipobase_Crm', 8),\n",
       " ('Eumovate_Oint 0.05%', 384),\n",
       " ('C D Medical_Peel Easy No Sting Adh Remov', 36),\n",
       " ('Cetraben Crm 1050g', 76),\n",
       " ('Dansac_Seals 40mm (70mm Outer Diam)', 3),\n",
       " ('Pseudoephed HCl_Tab 60mg', 291),\n",
       " ('Respond_HiLINE EZ-Wrap Unisex Hernia Sup', 3),\n",
       " ('Chloroquine Phos_Tab 250mg', 4),\n",
       " ('Hollister_Compact Urost Pouch Transpt C/', 2),\n",
       " ('Camcolit 400_Tab 400mg', 18),\n",
       " ('Clobazam_Oral Susp 5mg/5ml S/F', 35),\n",
       " ('Antaz Sulf/Xylomet_Eye Dps 0.5%/0.05%', 2),\n",
       " ('Omnitrope SurePal 5_Inj 5mg/1.5ml Cart', 4),\n",
       " ('Decapeptyl SR_Inj 3mg Vl + Dil', 28),\n",
       " ('Lisinopril/Hydchloroth_Tab 10mg/12.5mg', 158),\n",
       " ('Lamotrigine_Tab Disper 5mg S/F', 29),\n",
       " ('Meloxicam_Tab 15mg', 916),\n",
       " ('Methotrexate_Inj 10mg/0.2ml PF Dev', 23),\n",
       " ('Nutrison Pack_1200 Complete M/Fibre Liq', 10),\n",
       " ('Alfuzosin HCl_Tab 2.5mg', 272),\n",
       " ('Mesorb 10cm x 15cm Pfa Cellulose Dress', 4),\n",
       " ('Sildenafil_Tab 50mg', 4693),\n",
       " ('Zydol SR_Tab 50mg', 13),\n",
       " ('Lansoprazole_Cap 15mg (E/C Gran)', 35217),\n",
       " ('Risperdal Consta_Inj Pdr 50mg Vl + Dil', 5),\n",
       " ('Co-Careldopa_Tab 25mg/100mg M/R', 225),\n",
       " ('Seretide 250_Evohaler 250mcg/25mcg(120D)', 2758),\n",
       " ('Propranolol HCl_Oral Soln 50mg/5ml S/F', 7),\n",
       " ('Colecal_Cap 50 000u', 5),\n",
       " ('Atomoxetine HCl_Cap 80mg', 30),\n",
       " ('Fluocinolone Aceton_Oint 0.00625%', 3),\n",
       " ('Salts_WipeAway Plus No-Sting Adh Remover', 198),\n",
       " ('Vitasavoury_Pdr (Golden Veg)', 2),\n",
       " ('Topiramate_Cap 15mg', 4),\n",
       " ('Engerix B_Vac Paed 20mcg/ml 0.5ml Pfs', 53),\n",
       " ('Singulair_Tab 10mg', 5),\n",
       " ('Omnican Lance Soft 0.3mm/30 Gauge', 74),\n",
       " ('Aspen_Sorbaderm No-Sting Barrier Film 3m', 23),\n",
       " ('Haloperidol_Tab 5mg', 229),\n",
       " ('Aymes Shake_Pdr (Sbery)', 105),\n",
       " ('Bard Biocath H/Gel Foy Male 10ml Ball 12', 4),\n",
       " ('Alprostadil_Cont Pack Inj 40mcg Cart', 2),\n",
       " ('Dansac_Night Drain Bag 2L', 3),\n",
       " ('Liquivisc_Eye Gel 0.25%', 9),\n",
       " ('Juvela_G/F Bread Roll Wte P/Bke', 22),\n",
       " ('Tears Naturale_Eye Dps', 594),\n",
       " ('Anabact_Gel 0.75%', 7),\n",
       " ('Morph Sulf_Cap 30mg M/R', 285),\n",
       " ('Lactulose_Soln 3.1g-3.7g/5ml', 14460),\n",
       " ('Clement Clarke AirZone Stnd Range Peak F', 98),\n",
       " ('Clindamycin Phos_Lot 1%', 86),\n",
       " ('Nutilis_Food Thickener Pdr', 127),\n",
       " ('Frebini_Energy Fibre Liq (Unflav)', 2),\n",
       " ('Liq Paraf/Wte Soft Paraf_Oint 5%/95%', 17),\n",
       " ('Medihoney A-Bact Wound Gel 10g Wound Dre', 2),\n",
       " ('Barkat_G/F W/F Coffee Bisc', 4),\n",
       " ('Neocate Advance_Pdr Sach 50g (Flav)', 2),\n",
       " ('Preservision_Original Cap', 65),\n",
       " ('Lixisenatide_Inj 10mcg+20mcg/0.2ml 3mlPf', 4),\n",
       " ('Benzocaine_Spy 1mg 15ml S/F', 3),\n",
       " ('Perampanel_Tab 12mg', 2),\n",
       " ('Galantamine_Oral Soln 20mg/5ml S/F', 4),\n",
       " ('Clinitas Carbomer Eye Gel', 1754),\n",
       " ('Colecal_Tab 400u', 118),\n",
       " ('Lyrica_Cap 75mg', 1192),\n",
       " ('Qvar 100 E-Breathe_Inha 100mcg (200 D)', 541),\n",
       " ('Carmize 1% Carmellose Eye Dps 0.4ml Ud P', 5),\n",
       " ('Coloplast_SenSura Mio Click Drnbl Bag Ma', 5),\n",
       " ('CliniMed_Ostagel Skin Cleanser', 3),\n",
       " ('Osmolite_Liq', 3),\n",
       " ('Amias_Tab 16mg', 5),\n",
       " ('Swabs 10cm x 10cm Fabric Filmated Non-Wo', 34),\n",
       " ('Aciferol D3_Tab 20 000u', 15),\n",
       " ('Ensure Plus_Creme (4 Flav)', 16),\n",
       " ('Pizotifen Malate_Tab 1.5mg', 1145),\n",
       " ('Colecal_Oral Soln 15 000u/5ml', 2),\n",
       " ('Glutafin_G/F Bread Roll x 4 Wte', 23),\n",
       " ('Jobst Elvarex Acc For L/Extrem Closed To', 2),\n",
       " ('Calceos_Tab Chble 500mg/400u', 4306),\n",
       " ('Frebini_Energy Liq (2 Flav)', 5),\n",
       " ('Losartan Pot_Tab 100mg', 13877),\n",
       " ('Prozac_Cap 20mg', 23),\n",
       " ('Estradiol/Norethisterone_Patch 50/170mcg', 5),\n",
       " ('Lubiprostone_Cap 24mcg', 5),\n",
       " ('Efexor XL_Cap 150mg', 16),\n",
       " ('Betameth Diprop_Crm 0.05%', 7),\n",
       " ('CliniFast 10.75cm x 1m (Yellow) Stkntte', 2),\n",
       " ('Trazodone HCl_Cap 50mg', 2195),\n",
       " ('Clotrimazole_Crm 10%', 25),\n",
       " ('Juvela_G/F W/F Cornflakes', 29),\n",
       " ('Medikinet XL_Cap 40mg', 58),\n",
       " ('Colecal_Cap 1 000u', 506),\n",
       " ('Caverject_Inj Pack (10mcg Vl + Dil)', 3),\n",
       " ('Teleflex_Rusch Leg Bag 500ml 30cm Tubing', 8),\n",
       " ('Advapore 8cm x 10cm Adh Dress Pfa', 2),\n",
       " ('Testim_Gel 50mg/5g', 5),\n",
       " ('Atomoxetine HCl_Cap 25mg', 43),\n",
       " ('Oxcarbazepine_Oral Susp 300mg/5ml S/F', 2),\n",
       " ('Mirtazapine_Tab 30mg', 12174),\n",
       " ('Dermatix Gel 15g Wound Dress Slc', 4),\n",
       " ('Darbepoetin Alfa_Inj 30mcg/0.3ml Pfs', 2),\n",
       " ('Veil_Cover Crm', 14),\n",
       " ('Ibuprofen_Tab 400mg', 8130),\n",
       " ('Emollin Emollient Aero 240ml', 51),\n",
       " ('Respond_OstoMart OstoMist OdourNeutralis', 4),\n",
       " ('Senokot Max Strgh_Tab 15mg', 4),\n",
       " ('B.Braun_Softima Key Closed Pouch + Fltr', 3),\n",
       " ('Diagemet XL_Tab 500mg', 56),\n",
       " ('TriCare Needles Pen Inj Screw On 6mm/31', 22),\n",
       " ('Unomedical_Careline E4 Night Bag + Lever', 4),\n",
       " ('Jevity Promote_Liq', 6),\n",
       " ('Symbicort_Turbohaler 200mcg/6mcg (120 D)', 4953),\n",
       " ('UrgoTul Absorb Border 8cm x 8cm Wound Dr', 11),\n",
       " ('Promethazine HCl_Tab 25mg', 3259),\n",
       " ('Hollister VaPro Pocket Hydro Male 40cm 1', 25),\n",
       " ('Alissa Carmellose 0.5% Eye Dps 0.4ml Ud', 46),\n",
       " ('Ins Insuman Comb 50_100u/ml 3ml Cart', 16),\n",
       " ('Lido HCl/Adren (Base)_Inj 1% 20ml Vl', 4),\n",
       " ('Hydromol Sod Pidolate Crm 2.5% 100g (App', 52),\n",
       " ('Chlorpromazine HCl_Oral Soln 25mg/5ml', 4),\n",
       " ('Unspecified Surg Adh Tape 1.25cm x 5m Pe', 2),\n",
       " ('Genotropin_Inj 12mg Cart + Dil', 2),\n",
       " ('Sotalol HCl_Tab 80mg', 772),\n",
       " ('Evorel Conti_Patch', 269),\n",
       " ('Progesterone_Cap 100mg (Micronised)', 9),\n",
       " ('FreeStyle (Reagent)_Strips', 180),\n",
       " ('CliniSupplies_ProSys Leg Bag Ster 750ml', 16),\n",
       " ('Aquacel 5cm x 5cm Wound Dress Protease M', 64),\n",
       " ('Vesicare_Tab 10mg', 52),\n",
       " ('Coloplast_Trident T1 Leg Bag 750ml Adjus', 3),\n",
       " ('Carbagen SR_Tab 200mg', 10),\n",
       " ('Elidel_Crm 1%', 14),\n",
       " ('Pregabalin_Oral Soln 100mg/5ml S/F', 9),\n",
       " ('3m Health Care_Cavilon No Sting Barrier', 350),\n",
       " ('Chloramphen_Eye Oint 1%', 2060),\n",
       " ('Hydromol Sod Pidolate Crm 2.5% 50g (App)', 20),\n",
       " ('Flamazine_Crm 1%', 63),\n",
       " ('Docusate Sod_Oral Soln 12.5mg/5ml S/F', 6),\n",
       " ('Tegaderm + Pad 5cm x 7cm VP Adh Film Dre', 17),\n",
       " ('Morph Sulf_Tab 5mg M/R', 170),\n",
       " ('Nifedipine_Cap 10mg M/R', 149),\n",
       " ('Qlaira_C/Pk Tab', 7),\n",
       " ('Hy-Opti 0.1% Sod Hyaluronate Eye Dps 10m', 3),\n",
       " ('Ins Innolet Insulat_100u/ml 3ml Pf Pen', 237),\n",
       " ('Coloplast_Conveen Sheath Liner', 18),\n",
       " ('Madopar CR_Cap', 111),\n",
       " ('Desmopressin Acet_Tab 200mcg', 382),\n",
       " ('Pravastatin Sod_Tab 40mg', 6383),\n",
       " ('Erythromycin_Tab E/C 250mg', 3610),\n",
       " ('NovoPen 5 Blue 3ml 1u (1-60u) Hypod Reus', 31),\n",
       " ('Propiverine HCl_Cap 30mg M/R', 11),\n",
       " ('Fresubin 2kcal_Drink (6 Flav)', 177),\n",
       " ('Pentasa_Tab 1g M/R', 182),\n",
       " ('Fresubin 2kcal Creme_Dessert (Cappucino)', 22),\n",
       " ('Enfamil O-Lac_Pdr', 5),\n",
       " ('ReplensMD Vag Moist 6D Pack', 104),\n",
       " ('Ibuprofen_Tab 600mg', 307),\n",
       " ('Nicotine_Chewing Gum 4mg S/F', 4),\n",
       " ('Theophylline_Cap 250mg M/R', 3),\n",
       " ('Dixarit_Tab 25mcg', 26),\n",
       " ('Calcipotriol/Betameth_Gel 0.005%/0.05%', 650),\n",
       " ('Roaccutane_Cap 20mg', 54),\n",
       " ('Dansac_Nova 1 Convex E/Fld Drnbl Ileo Ba', 32),\n",
       " ('Tildiem Ret 90_Tab 90mg', 365),\n",
       " ('Glutafin_G/F W/F Pizza Base', 44),\n",
       " ('Pariet_Tab E/C 20mg', 9),\n",
       " ('ConvaTec_ConvaTec Niltac Sting Free Medi', 150),\n",
       " ('Phytomenadione_Tab 10mg', 3),\n",
       " ('Zetuvit E 20cm x 40cm Pfa Cellulose Dres', 81),\n",
       " ('Pregnacare_Tab', 95),\n",
       " ('Diamicron MR_Tab 30mg', 25),\n",
       " ('Atrauman 20cm x 30cm Ktd Polyester Dress', 43),\n",
       " ('Fluticasone/Vilanterol_Inha 184/22mcg30D', 72),\n",
       " ('Amlodipine/Valsartan_Tab 5mg/160mg', 2),\n",
       " ('Havrix Jnr Monodose_Vac 720u/0.5ml Pfs', 125),\n",
       " ('Fresubin Orig Fibre_Liq (Neutral)', 4),\n",
       " ('Normacol_Gran 62%', 19),\n",
       " ('Peptac_Liq (Aniseed) S/F', 2510),\n",
       " ('Torasemide_Tab 5mg', 2),\n",
       " ('Nicardipine HCl_Cap 30mg', 2),\n",
       " ('Heparin Sod_Soln 10u/ml 5ml Amp', 10),\n",
       " ('Combivent UDVs_Neb Soln Ud 2.5ml', 39),\n",
       " ('Morph Sulf_Gran Sach 20mg M/R', 2),\n",
       " ('Glucoject Needles Pen Inj Screw On 5mm/3', 9),\n",
       " ('Temazepam_Tab 10mg', 3442),\n",
       " ('Bromfenac_Eye Dps 900mcg/ml', 7),\n",
       " ('Stalevo_Tab 50mg/12.5mg/200mg', 2),\n",
       " ('Opus_SkinSafe Non Sting Prote Film', 16),\n",
       " ('Allevyn 10cm x 10cm Wound Dress Polyuret', 11),\n",
       " ('Coloplast_Brava Mouldable Rings 48mm x 2', 13),\n",
       " ('Imuran_Tab 25mg', 4),\n",
       " ('Daktarin_Oromucosal Gel 20mg/g S/F', 77),\n",
       " ('Hollister_Medical Adh A/Spy 90g', 2),\n",
       " ('Aquacel Ag Ribbon 2cm x 45cm Wound Dress', 15),\n",
       " ('Shortec_Cap 10mg', 240),\n",
       " ('Hydrocort_Crm 0.5%', 1038),\n",
       " ('Grip-Lok Securement Dev For Med Cath (10', 2),\n",
       " ('Risperidone_Tab 3mg', 495),\n",
       " ('Vensir XL_Cap 150mg', 1285),\n",
       " ('Clobetasol/Neomycin/Nystatin_Crm', 8),\n",
       " ('Nurse It Ster Dress Pack', 211),\n",
       " ('Azelaic Acid_Gel 15%', 64),\n",
       " ('Olmesartan Medox/Amlodipine_Tab40mg/10mg', 2),\n",
       " ('Selegiline HCl_Tab 5mg', 29),\n",
       " ('Aceclofenac_Tab 100mg', 5),\n",
       " (\"Nairn's_G/F W/F Oat Porridge\", 23),\n",
       " ('Ibandronic Acid_Tab 50mg', 7),\n",
       " ('Activa Leg Ulcer Hose Kit Med Clsd Toe C', 13),\n",
       " ('Epipen_Auto-Inj 1/1000 1mg/ml 0.3ml', 488),\n",
       " ('Otex_Ear Dps 5%', 34),\n",
       " ('Stalevo_Tab 175mg/43.75mg/200mg', 2),\n",
       " ('Doxazosin Mesil_Tab 4mg M/R', 1023),\n",
       " ('Cefalexin_Oral Susp 125mg/5ml', 281),\n",
       " ('Soya Oil82.95%/Lauromacrogois15%_BathOil', 5),\n",
       " ('Ipratrop Brom_Inh Soln 250mcg/1ml Ud', 101),\n",
       " ('Olanzapine_Tab 7.5mg', 485),\n",
       " ...]"
      ]
     },
     "execution_count": 19,
     "metadata": {},
     "output_type": "execute_result"
    }
   ],
   "source": [
    "items_by_bnf_name"
   ]
  },
  {
   "cell_type": "code",
   "execution_count": 23,
   "metadata": {},
   "outputs": [
    {
     "data": {
      "text/plain": [
       "('palmdoc (Reagent)_Strips', 6)"
      ]
     },
     "execution_count": 23,
     "metadata": {},
     "output_type": "execute_result"
    }
   ],
   "source": [
    "max(items_by_bnf_name)"
   ]
  },
  {
   "cell_type": "code",
   "execution_count": 24,
   "metadata": {},
   "outputs": [],
   "source": [
    "def criterion(tup):\n",
    "    return tup[1]"
   ]
  },
  {
   "cell_type": "code",
   "execution_count": 28,
   "metadata": {},
   "outputs": [
    {
     "data": {
      "text/plain": [
       "('Omeprazole_Cap E/C 20mg', 113826)"
      ]
     },
     "execution_count": 28,
     "metadata": {},
     "output_type": "execute_result"
    }
   ],
   "source": [
    "max(items_by_bnf_name, key=lambda x: x[1] )"
   ]
  },
  {
   "cell_type": "code",
   "execution_count": 29,
   "metadata": {},
   "outputs": [],
   "source": [
    "max_item = [(\"Omeprazole_Cap E/C 20mg\", 113826)]"
   ]
  },
  {
   "cell_type": "markdown",
   "metadata": {},
   "source": [
    "**TIP:** If you are getting an error from the grader below, please make sure your answer conforms to the correct format of `[(bnf_name, item total)]`."
   ]
  },
  {
   "cell_type": "code",
   "execution_count": 30,
   "metadata": {},
   "outputs": [
    {
     "name": "stdout",
     "output_type": "stream",
     "text": [
      "==================\n",
      "Your score:  1.0\n",
      "==================\n"
     ]
    }
   ],
   "source": [
    "grader.score.pw__most_common_item(max_item)"
   ]
  },
  {
   "cell_type": "markdown",
   "metadata": {},
   "source": [
    "**Challenge:** Write a function that constructs groups as we did above. The function should accept a list of dictionaries (e.g. `scripts` or `practices`) and a tuple of fields to `groupby` (e.g. `('bnf_name')` or `('bnf_name', 'post_code')`) and returns a dictionary of groups. The following questions will require you to aggregate data in groups, so this could be a useful function for the rest of the miniproject."
   ]
  },
  {
   "cell_type": "code",
   "execution_count": 22,
   "metadata": {},
   "outputs": [],
   "source": [
    "def group_by_field(data, fields):\n",
    "    groups = {}\n",
    "    for d in data:\n",
    "        key = tuple(d[f] for f in fields)\n",
    "        if key in groups:\n",
    "            groups[key].append(d)\n",
    "        else:\n",
    "            groups[key] = [d]\n",
    "    return groups"
   ]
  },
  {
   "cell_type": "code",
   "execution_count": 44,
   "metadata": {},
   "outputs": [],
   "source": [
    "def sum_values(data, key):\n",
    "    return sum([d[key] for d in data])"
   ]
  },
  {
   "cell_type": "code",
   "execution_count": 31,
   "metadata": {},
   "outputs": [
    {
     "ename": "AssertionError",
     "evalue": "",
     "output_type": "error",
     "traceback": [
      "\u001b[0;31m---------------------------------------------------------------------------\u001b[0m",
      "\u001b[0;31mAssertionError\u001b[0m                            Traceback (most recent call last)",
      "\u001b[0;32m<ipython-input-31-f139006cdbad>\u001b[0m in \u001b[0;36m<module>\u001b[0;34m()\u001b[0m\n\u001b[1;32m      2\u001b[0m \u001b[0mtest_max_item\u001b[0m \u001b[0;34m=\u001b[0m \u001b[0;34m...\u001b[0m\u001b[0;34m\u001b[0m\u001b[0;34m\u001b[0m\u001b[0m\n\u001b[1;32m      3\u001b[0m \u001b[0;34m\u001b[0m\u001b[0m\n\u001b[0;32m----> 4\u001b[0;31m \u001b[0;32massert\u001b[0m \u001b[0mtest_max_item\u001b[0m \u001b[0;34m==\u001b[0m \u001b[0mmax_item\u001b[0m\u001b[0;34m\u001b[0m\u001b[0;34m\u001b[0m\u001b[0m\n\u001b[0m",
      "\u001b[0;31mAssertionError\u001b[0m: "
     ]
    }
   ],
   "source": [
    "groups = group_by_field(scripts, ('bnf_name',))\n",
    "test_max_item = ...\n",
    "\n",
    "assert test_max_item == max_item"
   ]
  },
  {
   "cell_type": "markdown",
   "metadata": {},
   "source": [
    "## Question 3: postal_totals\n",
    "\n",
    "Our data set is broken up among different files. This is typical for tabular data to reduce redundancy. Each table typically contains data about a particular type of event, processes, or physical object. Data on prescriptions and medical practices are in separate files in our case. If we want to find the total items prescribed in each postal code, we will have to _join_ our prescription data (`scripts`) to our clinic data (`practices`).\n",
    "\n",
    "Find the total items prescribed in each postal code, representing the results as a list of tuples `(post code, total items prescribed)`. Sort your results ascending alphabetically by post code and take only results from the first 100 post codes. Only include post codes if there is at least one prescription from a practice in that post code.\n",
    "\n",
    "**NOTE:** Some practices have multiple postal codes associated with them. Use the alphabetically first postal code."
   ]
  },
  {
   "cell_type": "markdown",
   "metadata": {},
   "source": [
    "We can join `scripts` and `practices` based on the fact that `'practice'` in `scripts` matches `'code'` in `practices`. However, we must first deal with the repeated values of `'code'` in `practices`. We want the alphabetically first postal codes."
   ]
  },
  {
   "cell_type": "code",
   "execution_count": 33,
   "metadata": {},
   "outputs": [],
   "source": [
    "practice_postal = {}\n",
    "for practice in practices:\n",
    "    if practice['code'] in practice_postal:\n",
    "        practice_postal[practice['code']] = min(practice['post_code'], practice_postal[practice['code']])\n",
    "    else:\n",
    "        practice_postal[practice['code']] = practice['post_code']"
   ]
  },
  {
   "cell_type": "markdown",
   "metadata": {},
   "source": [
    "**Challenge:** This is an aggregation of the practice data grouped by practice codes. Write an alternative implementation of the above cell using the `group_by_field` function you defined previously."
   ]
  },
  {
   "cell_type": "code",
   "execution_count": 34,
   "metadata": {},
   "outputs": [],
   "source": [
    "assert practice_postal['K82019'] == 'HP21 8TR'"
   ]
  },
  {
   "cell_type": "markdown",
   "metadata": {},
   "source": [
    "Now we can join `practice_postal` to `scripts`."
   ]
  },
  {
   "cell_type": "code",
   "execution_count": 37,
   "metadata": {},
   "outputs": [],
   "source": [
    "joined = scripts[:]\n",
    "for script in joined:\n",
    "    practice_code = script['practice']\n",
    "    script['post_code'] = practice_postal[practice_code]"
   ]
  },
  {
   "cell_type": "code",
   "execution_count": null,
   "metadata": {},
   "outputs": [],
   "source": []
  },
  {
   "cell_type": "markdown",
   "metadata": {},
   "source": [
    "Finally we'll group the prescription dictionaries in `joined` by `'post_code'` and sum up the items prescribed in each group, as we did in the previous question."
   ]
  },
  {
   "cell_type": "code",
   "execution_count": 38,
   "metadata": {},
   "outputs": [],
   "source": [
    "grouped = group_by_field(joined, ('post_code',))"
   ]
  },
  {
   "cell_type": "code",
   "execution_count": 44,
   "metadata": {},
   "outputs": [],
   "source": [
    "postal_totals_all = [(post_code[0], sum_values(scripts_, 'items')) for post_code, scripts_ in grouped.items()]"
   ]
  },
  {
   "cell_type": "code",
   "execution_count": 45,
   "metadata": {},
   "outputs": [],
   "source": [
    "postal_totals = sorted(postal_totals_all)[:100]"
   ]
  },
  {
   "cell_type": "code",
   "execution_count": null,
   "metadata": {},
   "outputs": [],
   "source": []
  },
  {
   "cell_type": "code",
   "execution_count": null,
   "metadata": {},
   "outputs": [],
   "source": [
    "items_by_post = ..."
   ]
  },
  {
   "cell_type": "code",
   "execution_count": 47,
   "metadata": {},
   "outputs": [
    {
     "name": "stdout",
     "output_type": "stream",
     "text": [
      "==================\n",
      "Your score:  1.0\n",
      "==================\n"
     ]
    }
   ],
   "source": [
    "#postal_totals = [('B11 4BW', 20673)] * 100\n",
    "\n",
    "grader.score.pw__postal_totals(postal_totals)"
   ]
  },
  {
   "cell_type": "markdown",
   "metadata": {},
   "source": [
    "## Question 4: items_by_region\n",
    "\n",
    "Now we'll combine the techniques we've developed to answer a more complex question. Find the most commonly dispensed item in each postal code, representing the results as a list of tuples (`post_code`, `bnf_name`, amount dispensed as proportion of total). Sort your results ascending alphabetically by post code and take only results from the first 100 post codes.\n",
    "\n",
    "**NOTE:** We'll continue to use the `joined` variable we created before, where we've chosen the alphabetically first postal code for each practice. Additionally, some postal codes will have multiple `'bnf_name'` with the same number of items prescribed for the maximum. In this case, we'll take the alphabetically first `'bnf_name'`."
   ]
  },
  {
   "cell_type": "markdown",
   "metadata": {},
   "source": [
    "Now we need to calculate the total items of each `'bnf_name'` prescribed in each `'post_code'`. Use the techniques we developed in the previous questions to calculate these totals. You should have 141196 `('post_code', 'bnf_name')` groups."
   ]
  },
  {
   "cell_type": "code",
   "execution_count": 56,
   "metadata": {},
   "outputs": [],
   "source": [
    "#total_items_by_bnf_post = group_by_field(joined, ('post_code', 'bnf_name'))\n",
    "grouped_by_bnf_code_and_post_code = group_by_field(joined, ('post_code', 'bnf_name'))\n",
    "#assert len(total_items_by_bnf_post) == 141196"
   ]
  },
  {
   "cell_type": "code",
   "execution_count": 57,
   "metadata": {},
   "outputs": [
    {
     "data": {
      "text/plain": [
       "[{'bnf_code': '0301011R0AAAPAP',\n",
       "  'items': 300,\n",
       "  'practice': 'M85078',\n",
       "  'bnf_name': 'Salbutamol_Inha 100mcg (200 D) CFF',\n",
       "  'nic': 622.5,\n",
       "  'act_cost': 580.01,\n",
       "  'quantity': 415,\n",
       "  'post_code': 'B11 4BW'},\n",
       " {'bnf_code': '0301011R0AAAPAP',\n",
       "  'items': 149,\n",
       "  'practice': 'M85774',\n",
       "  'bnf_name': 'Salbutamol_Inha 100mcg (200 D) CFF',\n",
       "  'nic': 264.0,\n",
       "  'act_cost': 246.25,\n",
       "  'quantity': 176,\n",
       "  'post_code': 'B11 4BW'},\n",
       " {'bnf_code': '0301011R0AAAPAP',\n",
       "  'items': 257,\n",
       "  'practice': 'Y02620',\n",
       "  'bnf_name': 'Salbutamol_Inha 100mcg (200 D) CFF',\n",
       "  'nic': 736.5,\n",
       "  'act_cost': 685.0,\n",
       "  'quantity': 491,\n",
       "  'post_code': 'B11 4BW'}]"
      ]
     },
     "execution_count": 57,
     "metadata": {},
     "output_type": "execute_result"
    }
   ],
   "source": [
    "grouped_by_bnf_code_and_post_code[('B11 4BW', 'Salbutamol_Inha 100mcg (200 D) CFF')]"
   ]
  },
  {
   "cell_type": "code",
   "execution_count": 58,
   "metadata": {},
   "outputs": [],
   "source": [
    "total_items_by_bnf_post = [(key, sum_values(val, 'items')) for key, val in grouped_by_bnf_code_and_post_code.items()]"
   ]
  },
  {
   "cell_type": "markdown",
   "metadata": {},
   "source": [
    "Let's use `total_items` to find the maximum item total for each postal code. To do this, we will want to regroup `total_items_by_bnf_post` by `'post_code'` only, not by `('post_code', 'bnf_name')`. First let's turn `total_items` into a list of dictionaries (similar to `scripts` or `practices`) and then group it by `'post_code'`. You should have 118 groups in the resulting `total_items_by_post` after grouping `total_items` by `'post_code'`."
   ]
  },
  {
   "cell_type": "code",
   "execution_count": 59,
   "metadata": {},
   "outputs": [],
   "source": [
    "def construct_dict(key, val):\n",
    "    \"\"\" Accept a tuple and return a dictionary mapping the values of that tuple to a given array of keys\"\"\"\n",
    "    return {'post_code':key[0], 'bnf_name':key[1], 'total':val}\n",
    "\n",
    "total_items_by_bnf = [construct_dict(key, val) for key, val in total_items_by_bnf_post]"
   ]
  },
  {
   "cell_type": "code",
   "execution_count": 60,
   "metadata": {},
   "outputs": [
    {
     "data": {
      "text/plain": [
       "{'post_code': 'SK11 6JL',\n",
       " 'bnf_name': 'Co-Magaldrox_Susp 195mg/220mg/5ml S/F',\n",
       " 'total': 5}"
      ]
     },
     "execution_count": 60,
     "metadata": {},
     "output_type": "execute_result"
    }
   ],
   "source": [
    "total_items_by_bnf[0]"
   ]
  },
  {
   "cell_type": "code",
   "execution_count": 68,
   "metadata": {},
   "outputs": [],
   "source": [
    "grouped_by_post_code = group_by_field(total_items_by_bnf, ('post_code', ))\n",
    "total_items_by_post = [(key[0], sum_values(val, 'total')) for key, val in grouped_by_post_code.items()]"
   ]
  },
  {
   "cell_type": "code",
   "execution_count": 69,
   "metadata": {},
   "outputs": [
    {
     "data": {
      "text/plain": [
       "[('SK11 6JL', 110071),\n",
       " ('CW5 5NX', 38797),\n",
       " ('CW1 3AW', 64104),\n",
       " ('CW7 1AT', 43164),\n",
       " ('CH65 6TG', 25090),\n",
       " ('CH1 4DS', 34915),\n",
       " ('TS10 4NW', 45161),\n",
       " ('TS24 7PW', 58207),\n",
       " ('TS17 0EE', 68388),\n",
       " ('TS23 2DG', 31646),\n",
       " ('TS3 6AL', 51402),\n",
       " ('TS1 2NX', 47623),\n",
       " ('OL4 1YN', 24687),\n",
       " ('OL1 1NL', 41046),\n",
       " ('BL9 0SN', 35275),\n",
       " ('WN7 1HR', 29076),\n",
       " ('BL3 5HP', 27147),\n",
       " ('BL1 8TU', 26132),\n",
       " ('M26 2SP', 37718),\n",
       " ('BL9 0NJ', 32062),\n",
       " ('M35 0AD', 37632),\n",
       " ('OL9 7AY', 28394),\n",
       " ('OL11 1DN', 21567),\n",
       " ('M30 0NU', 25597),\n",
       " ('M11 4EJ', 23166),\n",
       " ('SK6 1ND', 28313),\n",
       " ('WN3 5HL', 31149),\n",
       " ('WN2 5NG', 22795),\n",
       " ('WN7 2PE', 23130),\n",
       " ('BB2 1AX', 28254),\n",
       " ('BB3 1PY', 54514),\n",
       " ('FY2 0JG', 69118),\n",
       " ('FY4 1TJ', 62886),\n",
       " ('BB11 2DL', 34356),\n",
       " ('BB8 0JZ', 54380),\n",
       " ('BB9 7SR', 38224),\n",
       " ('BB7 2JG', 44585),\n",
       " ('BB4 5SL', 29388),\n",
       " ('LA1 1PN', 47335),\n",
       " ('FY5 2TZ', 44258),\n",
       " ('FY7 8GU', 34473),\n",
       " ('WA7 1AB', 41314),\n",
       " ('L36 7XY', 22965),\n",
       " ('L31 0DJ', 32065),\n",
       " ('WA10 2DJ', 40394),\n",
       " ('WA9 1LN', 29644),\n",
       " ('L7 6HD', 42569),\n",
       " ('L5 0QW', 24676),\n",
       " ('NE24 1DX', 50491),\n",
       " ('NE10 9QG', 39882),\n",
       " ('NE38 7NQ', 52803),\n",
       " ('SR4 7XF', 49843),\n",
       " ('NE37 2PU', 57500),\n",
       " ('SR5 2LT', 44895),\n",
       " ('YO16 4LZ', 52032),\n",
       " ('HG1 5AR', 32684),\n",
       " ('HU7 4DW', 49107),\n",
       " ('DN34 4GB', 48013),\n",
       " ('S63 9EH', 34787),\n",
       " ('S74 9AF', 55305),\n",
       " ('DN22 7XF', 43091),\n",
       " ('S65 1DA', 71683),\n",
       " ('WF13 1HN', 25456),\n",
       " ('BD3 8QH', 21010),\n",
       " ('LS9 9EF', 48051),\n",
       " ('CV1 4FS', 37210),\n",
       " ('B11 4BW', 20673),\n",
       " ('B21 9RY', 29103),\n",
       " ('B18 7AL', 19001),\n",
       " ('B70 7AW', 36531),\n",
       " ('WV13 2DR', 33844),\n",
       " ('WS10 8SY', 12598),\n",
       " ('WS3 3JP', 35242),\n",
       " ('B23 6DJ', 24859),\n",
       " ('NG7 3GW', 17698),\n",
       " ('NG7 5HY', 24903),\n",
       " ('TN24 0GP', 16955),\n",
       " ('CB9 8HF', 51337),\n",
       " ('SS13 3HQ', 38513),\n",
       " ('SS8 0JA', 45848),\n",
       " ('SS9 5UU', 26095),\n",
       " ('SS0 7AF', 21569),\n",
       " ('NN16 8DN', 50771),\n",
       " ('WD18 0JP', 21034),\n",
       " ('LN2 2JP', 46173),\n",
       " ('LE18 2EW', 37144),\n",
       " ('LE5 3GH', 28654),\n",
       " ('LE10 1DS', 49335),\n",
       " ('ST8 6AG', 34516),\n",
       " ('ST1 4PB', 24227),\n",
       " ('ST3 6AB', 38705),\n",
       " ('N9 7HD', 30706),\n",
       " ('RM3 9SU', 25476),\n",
       " ('W10 6DZ', 16264),\n",
       " ('HA0 4UZ', 22755),\n",
       " ('NW10 8RY', 21553),\n",
       " ('TW8 8DS', 26941),\n",
       " ('TW13 4GU', 19584),\n",
       " ('TW3 3LN', 40141),\n",
       " ('HA3 7LT', 32113),\n",
       " ('KT6 6EZ', 38975),\n",
       " ('SE1 6JP', 45030),\n",
       " ('SE15 5LJ', 15258),\n",
       " ('SM3 8EP', 24965),\n",
       " ('SM6 0HY', 46016),\n",
       " ('GL1 3PX', 38120),\n",
       " ('GL50 4DP', 74822),\n",
       " ('TR1 2JA', 40194),\n",
       " ('PL7 1AD', 65051),\n",
       " ('DA11 8BZ', 24090),\n",
       " ('DA1 2HA', 26075),\n",
       " ('ME8 8AA', 25257),\n",
       " ('CT11 8AD', 44358),\n",
       " ('TN34 1BA', 47440),\n",
       " ('KT14 6DH', 26758),\n",
       " ('BH18 8EE', 39413),\n",
       " ('BH23 3AF', 32545),\n",
       " ('GU9 9QS', 32131)]"
      ]
     },
     "execution_count": 69,
     "metadata": {},
     "output_type": "execute_result"
    }
   ],
   "source": [
    "total_items_by_post"
   ]
  },
  {
   "cell_type": "code",
   "execution_count": 63,
   "metadata": {},
   "outputs": [],
   "source": [
    "assert len(total_items_by_bnf_post) == 141196"
   ]
  },
  {
   "cell_type": "code",
   "execution_count": 70,
   "metadata": {},
   "outputs": [],
   "source": [
    "total_items = ...\n",
    "assert len(total_items_by_post) == 118"
   ]
  },
  {
   "cell_type": "code",
   "execution_count": 76,
   "metadata": {},
   "outputs": [
    {
     "data": {
      "text/plain": [
       "[{'post_code': 'B11 4BW',\n",
       "  'bnf_name': 'Salbutamol_Inha 100mcg (200 D) CFF',\n",
       "  'total': 706},\n",
       " {'post_code': 'B11 4BW', 'bnf_name': 'Paracet_Tab 500mg', 'total': 451},\n",
       " {'post_code': 'B11 4BW', 'bnf_name': 'Metformin HCl_Tab 500mg', 'total': 387},\n",
       " {'post_code': 'B11 4BW',\n",
       "  'bnf_name': 'Lansoprazole_Cap 30mg (E/C Gran)',\n",
       "  'total': 385},\n",
       " {'post_code': 'B11 4BW', 'bnf_name': 'Amoxicillin_Cap 500mg', 'total': 350}]"
      ]
     },
     "execution_count": 76,
     "metadata": {},
     "output_type": "execute_result"
    }
   ],
   "source": [
    "sorted(grouped_by_post_code[('B11 4BW',)], key=lambda x: (x['total'], x['bnf_name']), reverse=True)[:5]"
   ]
  },
  {
   "cell_type": "code",
   "execution_count": null,
   "metadata": {},
   "outputs": [],
   "source": []
  },
  {
   "cell_type": "markdown",
   "metadata": {},
   "source": [
    "Now we will aggregate the groups in `total_by_item_post` to create `max_item_by_post`. Some `'bnf_name'` have the same item total within a given postal code. Therefore, if more than one `'bnf_name'` has the maximum item total in a given postal code, we'll take the alphabetically first `'bnf_name'`. We can do this by [sorting](https://docs.python.org/2.7/howto/sorting.html) each group according to the item total and `'bnf_name'`."
   ]
  },
  {
   "cell_type": "code",
   "execution_count": 77,
   "metadata": {},
   "outputs": [],
   "source": [
    "max_item_by_post = [sorted(val, key=lambda x: x['total'], reverse=True)[0] for val in grouped_by_post_code.values()]"
   ]
  },
  {
   "cell_type": "code",
   "execution_count": 80,
   "metadata": {},
   "outputs": [
    {
     "data": {
      "text/plain": [
       "[{'post_code': 'SK11 6JL',\n",
       "  'bnf_name': 'Omeprazole_Cap E/C 20mg',\n",
       "  'total': 3219},\n",
       " {'post_code': 'CW5 5NX',\n",
       "  'bnf_name': 'Omeprazole_Cap E/C 20mg',\n",
       "  'total': 1419},\n",
       " {'post_code': 'CW1 3AW',\n",
       "  'bnf_name': 'Omeprazole_Cap E/C 20mg',\n",
       "  'total': 2364},\n",
       " {'post_code': 'CW7 1AT',\n",
       "  'bnf_name': 'Omeprazole_Cap E/C 20mg',\n",
       "  'total': 1655},\n",
       " {'post_code': 'CH65 6TG',\n",
       "  'bnf_name': 'Lansoprazole_Cap 30mg (E/C Gran)',\n",
       "  'total': 688}]"
      ]
     },
     "execution_count": 80,
     "metadata": {},
     "output_type": "execute_result"
    }
   ],
   "source": [
    "max_item_by_post[:5]"
   ]
  },
  {
   "cell_type": "code",
   "execution_count": 82,
   "metadata": {},
   "outputs": [
    {
     "data": {
      "text/plain": [
       "[('SK11 6JL', 110071),\n",
       " ('CW5 5NX', 38797),\n",
       " ('CW1 3AW', 64104),\n",
       " ('CW7 1AT', 43164),\n",
       " ('CH65 6TG', 25090)]"
      ]
     },
     "execution_count": 82,
     "metadata": {},
     "output_type": "execute_result"
    }
   ],
   "source": [
    "total_items_by_post[:5]"
   ]
  },
  {
   "cell_type": "code",
   "execution_count": 90,
   "metadata": {},
   "outputs": [],
   "source": [
    "post_code_target = 'CW7 1AT'\n",
    "\n",
    "for post_code, total in total_items_by_post:\n",
    "    if post_code == post_code_target:\n",
    "        denom = total"
   ]
  },
  {
   "cell_type": "code",
   "execution_count": 89,
   "metadata": {},
   "outputs": [],
   "source": [
    "def find_denom(post_code_target, total_items_by_post):\n",
    "    for post_code, total in total_items_by_post:\n",
    "        if post_code == post_code_target:\n",
    "            return total\n",
    "    "
   ]
  },
  {
   "cell_type": "code",
   "execution_count": 91,
   "metadata": {},
   "outputs": [],
   "source": [
    "total_items_by_post_dict = dict(total_items_by_post)"
   ]
  },
  {
   "cell_type": "code",
   "execution_count": 93,
   "metadata": {},
   "outputs": [
    {
     "name": "stdout",
     "output_type": "stream",
     "text": [
      "46.9 ns ± 1.87 ns per loop (mean ± std. dev. of 7 runs, 10000000 loops each)\n"
     ]
    }
   ],
   "source": [
    "%%timeit\n",
    "total_items_by_post_dict['CW7 1AT']\n"
   ]
  },
  {
   "cell_type": "code",
   "execution_count": 94,
   "metadata": {},
   "outputs": [
    {
     "name": "stdout",
     "output_type": "stream",
     "text": [
      "327 ns ± 10.7 ns per loop (mean ± std. dev. of 7 runs, 1000000 loops each)\n"
     ]
    }
   ],
   "source": [
    "%%timeit\n",
    "find_denom(post_code_target, total_items_by_post)"
   ]
  },
  {
   "cell_type": "code",
   "execution_count": 96,
   "metadata": {},
   "outputs": [],
   "source": [
    "items_by_region_all = [(x['post_code'], x['bnf_name'], x['total'] / total_items_by_post_dict[x['post_code']]) for x in max_item_by_post]"
   ]
  },
  {
   "cell_type": "code",
   "execution_count": 97,
   "metadata": {},
   "outputs": [
    {
     "data": {
      "text/plain": [
       "[('SK11 6JL', 'Omeprazole_Cap E/C 20mg', 0.029244760200234393),\n",
       " ('CW5 5NX', 'Omeprazole_Cap E/C 20mg', 0.036574992911823076),\n",
       " ('CW1 3AW', 'Omeprazole_Cap E/C 20mg', 0.03687757394234369),\n",
       " ('CW7 1AT', 'Omeprazole_Cap E/C 20mg', 0.038342136965990176),\n",
       " ('CH65 6TG', 'Lansoprazole_Cap 30mg (E/C Gran)', 0.027421283379832604)]"
      ]
     },
     "execution_count": 97,
     "metadata": {},
     "output_type": "execute_result"
    }
   ],
   "source": [
    "items_by_region_all[:5]"
   ]
  },
  {
   "cell_type": "code",
   "execution_count": 98,
   "metadata": {},
   "outputs": [],
   "source": [
    "items_by_region = sorted(items_by_region_all)[:100]"
   ]
  },
  {
   "cell_type": "code",
   "execution_count": 99,
   "metadata": {},
   "outputs": [
    {
     "data": {
      "text/plain": [
       "[('B11 4BW', 'Salbutamol_Inha 100mcg (200 D) CFF', 0.03415082474725487),\n",
       " ('B18 7AL', 'Salbutamol_Inha 100mcg (200 D) CFF', 0.02926161780958897),\n",
       " ('B21 9RY', 'Metformin HCl_Tab 500mg', 0.03549462254750369),\n",
       " ('B23 6DJ', 'Lansoprazole_Cap 30mg (E/C Gran)', 0.024095900880968663),\n",
       " ('B70 7AW', 'Paracet_Tab 500mg', 0.0266896608360023)]"
      ]
     },
     "execution_count": 99,
     "metadata": {},
     "output_type": "execute_result"
    }
   ],
   "source": [
    "items_by_region[:5]"
   ]
  },
  {
   "cell_type": "markdown",
   "metadata": {},
   "source": [
    "In order to express the item totals as a proportion of the total amount of items prescribed across all `'bnf_name'` in a postal code, we'll need to use the total items prescribed that we previously calculated as `items_by_post`. Calculate the proportions for the most common `'bnf_names'` for each postal code. Format your answer as a list of tuples: `[(post_code, bnf_name, total)]`"
   ]
  },
  {
   "cell_type": "code",
   "execution_count": 78,
   "metadata": {},
   "outputs": [],
   "source": [
    "items_by_region = [('B11 4BW', 'Salbutamol_Inha 100mcg (200 D) CFF', 0.0341508247)] * 100"
   ]
  },
  {
   "cell_type": "code",
   "execution_count": 100,
   "metadata": {},
   "outputs": [
    {
     "name": "stdout",
     "output_type": "stream",
     "text": [
      "==================\n",
      "Your score:  1.0\n",
      "==================\n"
     ]
    }
   ],
   "source": [
    "grader.score.pw__items_by_region(items_by_region)"
   ]
  },
  {
   "cell_type": "markdown",
   "metadata": {},
   "source": [
    "*Copyright &copy; 2020 The Data Incubator.  All rights reserved.*"
   ]
  }
 ],
 "metadata": {
  "kernelspec": {
   "display_name": "Python 3",
   "language": "python",
   "name": "python3"
  },
  "language_info": {
   "codemirror_mode": {
    "name": "ipython",
    "version": 3
   },
   "file_extension": ".py",
   "mimetype": "text/x-python",
   "name": "python",
   "nbconvert_exporter": "python",
   "pygments_lexer": "ipython3",
   "version": "3.7.3"
  },
  "nbclean": true
 },
 "nbformat": 4,
 "nbformat_minor": 1
}
